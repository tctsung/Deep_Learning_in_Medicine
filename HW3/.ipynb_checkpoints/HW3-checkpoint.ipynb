{
 "cells": [
  {
   "cell_type": "markdown",
   "metadata": {
    "id": "WdsmTkn4CyXn"
   },
   "source": [
    "# Deep Learning in Medicine\n",
    "## BMSC-GA 4493, BMIN-GA 3007\n",
    "## Homework 3: RNNs\n",
    "\n",
    "Note 1: You can either work on HPC (recommended) or Google Colab for this homework.\n",
    "\n",
    "Note 2: If you need to write mathematical terms, you can type your answers in a Markdown Cell via LaTex\n",
    "See: <a href=\"https://stackoverflow.com/questions/13208286/how-to-write-latex-in-ipython-notebook\">here</a> if you have issues. To see basic LaTex notation see: <a href=\"https://en.wikibooks.org/wiki/LaTeX/Mathematics\">here</a>.\n",
    "\n",
    "\n",
    "Submission instruction: Upload your final jupyter notebook file, along with any figures that you may produce, in a zipped file named **netid_hw3** on Brightspace.\n",
    "\n",
    "**Submission deadline: Thursday April 13th 2023 11:59pm.**\n",
    "\n"
   ]
  },
  {
   "cell_type": "markdown",
   "metadata": {
    "id": "_8HRHhMmCyXo"
   },
   "source": [
    "# Question 1: Literature Review: LSTM for ECG Signal Classification (Total points 20 + 5 bonus points)\n",
    "\n",
    "Read this paper:\n",
    "\n",
    "#### Yildirim, Özal. \"A novel wavelet sequence based on deep bidirectional LSTM network model for ECG signal classification.\" Computers in biology and medicine 96 (2018): 189-202.\n",
    "\n",
    "https://www.sciencedirect.com/science/article/pii/S0010482518300738?casa_token=XhS9KHU_fQoAAAAA:FGE7jkAK3I7HRf1yZNl8LA2snhUo1VgyEYdL7oXP1aI3jkBoqEc3dnvGtw1FEuNzWhnlAZ5X\n",
    "\n",
    "We are interested in understanding the task, the methods that is proposed in this publication, technical aspects of the implementation, and possible future work."
   ]
  },
  {
   "cell_type": "markdown",
   "metadata": {
    "id": "mbg_Cnh8CyXu"
   },
   "source": [
    "**1.1) (5 points)** After you read the full article, go back to section Materials and Method. You can find the two proposed Deep Learning architectures in the paper. Please briefly describe the model structure of one of the model, DULSTM-WS. What are the layers, number of features input to the network and the output dimension of the model? You can ignore specifics parameters for the layers."
   ]
  },
  {
   "cell_type": "markdown",
   "metadata": {
    "id": "8gCIAwmjCyXu"
   },
   "source": [
    "**Ans.**\n",
    "\n",
    "The DULSTM-WS model first transform ECG signals to wavelet sequences, followed by two unidirectional LSTM layers, a dropout layer, a flatten layer, and two dense (fully connected) layers.\n",
    "\n",
    "The input data dimension **for training is 4425 × 360 and 1475 × 360 for testing stage**.\n",
    "\n",
    "- Wavelet Sequence (WS) layer. Output will be n dimension from 2^n input dimension\n",
    "- unidirectional LSTM layer with 64 dimension and a dropout rate of 0.1\n",
    "- unidirectional LSTM with 32 dimension\n",
    "- Feed forward layer with 128 units output with dropout=0.2 and ReLU activation\n",
    "- Last Feed forward layer with softmax activation and a output **dimension of 5**, which represents 5 classes of arrhythmia heartbeat types\n"
   ]
  },
  {
   "cell_type": "markdown",
   "metadata": {
    "id": "l-prwvWICyXu"
   },
   "source": [
    "**1.2) (5 points)** What is the loss function for the two proposed models (same for both)? What are the evaluation criteria used by the authors for the models?"
   ]
  },
  {
   "cell_type": "markdown",
   "metadata": {
    "id": "zE4gJmbXCyXu"
   },
   "source": [
    "**Ans.**\n",
    "\n",
    "Cross-entropy with Adam optimizer were used. The used confusion matrices and accuracy for evaluation"
   ]
  },
  {
   "cell_type": "markdown",
   "metadata": {
    "id": "P2YS5hKsCyXu"
   },
   "source": [
    "**1.3) (5 points)** The Wavelet Sequences (WS) layer serves as a data transformation for the input ECG sequence. Please briefly describe the details functionality of the layer. Please also describe conceptually the effect of number of layers for WS layer on the signal **(Hint: check the included figures in section 4)**."
   ]
  },
  {
   "cell_type": "markdown",
   "metadata": {
    "id": "7k-upFwpCyXv"
   },
   "source": [
    "**Ans.**\n",
    "\n",
    "WS layer is a type of data transformation layer used for processing input ECG (electrocardiogram) sequences. The WS layer decomposes the input signal into multiple frequency sub-bands using wavelet analysis. This process creates a new representation of the signal that can capture informations in the input signal.\n",
    "\n",
    "According to the visualization in fig.9, the layers take different levels of information so bands with different signal strength could be capture.\n",
    "\n"
   ]
  },
  {
   "cell_type": "markdown",
   "metadata": {
    "id": "3bWkUtsUCyXv"
   },
   "source": [
    "**1.4) (5 points)** Are there some data augmentation/regularization that authors have used? What are some techniques that could have been used but wasn't? Briefly provide some explanation of your choice."
   ]
  },
  {
   "cell_type": "markdown",
   "metadata": {
    "id": "YxJ8x_8eCyXv"
   },
   "source": [
    "**Ans.**\n",
    "\n",
    "The author mentioned augmentation process in WS layer. But didn't specify the details. They also performed dropout techniques in both LSTM layers and feed forward network. They may add noises for the ECG waves as augmentation, and do L2 or L1 regularization, and do batch normalization."
   ]
  },
  {
   "cell_type": "markdown",
   "metadata": {
    "id": "xpCqnW8rCyXv"
   },
   "source": [
    "**1.5) (Bonus, maximum 5 points)**. What other architectures would you try? For maximum point, name one architecture, briefly explain your motivation for it and in a few sentences explain why the proposed changes might work better. Do some literature review on the application of such architecture in the medical field."
   ]
  },
  {
   "cell_type": "markdown",
   "metadata": {
    "id": "KyokGj3fCyXv"
   },
   "source": [
    "**Ans.**\n",
    "\n",
    "Since the input ECG can be viewed as a image, I would like to try CNN-based models. Specifically, from paper \"A Study on Arrhythmia via ECG Signal Classification Using the Convolutional Neural Network\"(https://doi.org/10.3389/fncom.2020.564015), they used a simple CNN structure with 4 convoluation layers and kernel size of 13, 15, 17, 19 and 2 FC layer for similar classification problem. \n",
    "\n",
    "In addition, Since RNN is basically a more constrained type of transformer, it would be worth trying a transformer-based models for the same problem."
   ]
  },
  {
   "cell_type": "markdown",
   "metadata": {
    "id": "RCcEsReRCyXv"
   },
   "source": [
    "# Question 2: Literature Review: Multi-Channel Fusion LSTM (20 points)\n",
    "\n",
    "Read this paper: \n",
    "\n",
    "\n",
    "#### Liu, S., Wang, X., Xiang, Y., Xu, H., Wang, H., & Tang, B. (2022). Multi-channel Fusion LSTM for Medical Event Prediction using HERs. \n",
    "\n",
    "https://www.sciencedirect.com/science/article/pii/S1532046422000272?casa_token=ymhReMXUX2kAAAAA:pVqghdvoabg5Rkz4IKInVLeiMQNfc3nHc9Y71voIvdD7Ba3yfWOY5ME9Yx97mICi04IREy5b\n",
    "\n",
    "In this paper, the authors propose two models with multi-channel fusion of LSTM to handle heterogeneous electronic medical records. We are interested in understanding how different channels of input signals are processed and embedded with LSTM modules, and subsequently used for downstream tasks.\n"
   ]
  },
  {
   "cell_type": "markdown",
   "metadata": {
    "id": "2PfJ3hAZCyXv"
   },
   "source": [
    "**2.1) (10 points)** After reading the paper, focus on Secion 3.2. Describe, with relevant formulas, how the fusion module works for an individual auxillary channel for Single-Belt Fusion model and Multi-Belt Fusion model. Please also conceptually describe the difference of the fusion modules in the two models."
   ]
  },
  {
   "cell_type": "markdown",
   "metadata": {
    "id": "BZ-yRyIaCyXv"
   },
   "source": [
    "**Ans.**\n",
    "\n",
    "For the Single-Belt Fusion model, primary and auxiliary channels share the same LSTM unit for information fusion (see Fig. 3 from the paper). The fusion module selects information from each auxiliary channel and integrates it into the history information of the primary channel. \n",
    "\n",
    "The Multi-Belt Fusion model is more complex. Each auxiliary channel has its own fusion module. The fusion module works by first individually fusing each auxiliary channel with the primary channel using a gated network on their own belt and then combining the fused channels with the primary channel using a multi-layer perceptron. \n",
    "\n",
    "The main difference between the two models is in how they fuse channel information. In Single-Belt Fusion model, all channels share one LSTM unit. In Multi-Belt Fusion model, each auxiliary channel has its own LSTM unit. "
   ]
  },
  {
   "cell_type": "markdown",
   "metadata": {
    "id": "6rRacIY4CyXv"
   },
   "source": [
    "**2.2) (5 points)** Consider the Single-Belt Fusion model. Briefly describe the model structure. Consider that the model is used for a prediction downstream task. Please also describe how the SBF embedding is used for the prediction task, along with the loss function used in the study **(hint: check Section 3.3)**."
   ]
  },
  {
   "cell_type": "markdown",
   "metadata": {
    "id": "hWTlqRMDCyXv"
   },
   "source": [
    "**Ans.**\n",
    "\n",
    "The Single-Belt Fusion model contains an input layer, an embedding layer, an LSTM layer, a fusion layer, and a prediction layer.\n",
    "\n",
    "They do medical event prediction by connecting the SBF embedding with a fully connected layer with sigmoid activation function to predict event occurence of next time point.\n",
    "\n",
    "The cross entropy is used as the loss function in the study.\n"
   ]
  },
  {
   "cell_type": "markdown",
   "metadata": {
    "id": "5yPL2QRMCyXv"
   },
   "source": [
    "**2.3) (5 points)** The authors experimented the model using two datasets. Which criteria are used to evaluate the models? What is the best model according to the evaluation criteria?"
   ]
  },
  {
   "cell_type": "markdown",
   "metadata": {
    "id": "iztGxGT5CyXv"
   },
   "source": [
    "**Ans.** \n",
    "\n",
    "They mainly use AUC(receiver operating characteristic curve) and AUPR (area under the precision-recall curve) as criteria. They also showed the top-k recalls where k is set to 10, 20, 30, 40 and 50 on medication prediction task in both datasets. MCF-LSTM-MBF has the greatest performance regarding the AUC, AUPR, and top k recalls in Medication prediction, Diagnosis prediction, Labtest prediction and in both data sets."
   ]
  },
  {
   "cell_type": "markdown",
   "metadata": {
    "id": "IlxRhsVaCyXv"
   },
   "source": [
    "# Question 3 - Programming: Build Classifiers on Medical Transcriptions - Recurrent Neural Networks and Self Attention(60 points + 10 bonus points)\n",
    "\n",
    "Let's build some models now. In this homework, we will focus on a dataset which has around 5000 medical transcriptions and the corresponding medical specialty. The data is available <a href=\"https://www.kaggle.com/tboyle10/medicaltranscriptions\">here</a>.\n",
    "\n",
    "Here, we will focus on predicting top few classes of medical specialty, from the transcription text. <a href=\"https://github.com/nyumc-dl/BMSC-GA-4493-Spring2023/tree/main/lab6\">Lab 6</a> will be very useful here.\n",
    "\n",
    "**If you are working on Google Colab, please change the working directory path and run the next cell.**"
   ]
  },
  {
   "cell_type": "code",
   "execution_count": null,
   "metadata": {
    "colab": {
     "base_uri": "https://localhost:8080/"
    },
    "id": "oth5_HvtCyXw",
    "outputId": "9d944bfe-6a62-4b0f-e44c-35824ed61da1"
   },
   "outputs": [
    {
     "name": "stdout",
     "output_type": "stream",
     "text": [
      "Mounted at /content/drive\n"
     ]
    }
   ],
   "source": [
    "# Run this cell if you are working on Google Colab\n",
    "from google.colab import drive\n",
    "import os\n",
    "drive.mount('/content/drive')\n",
    "\n",
    "path = 'Colab Notebooks/'  # Change this to your drive directory\n",
    "os.chdir(os.path.join('drive/MyDrive', path))"
   ]
  },
  {
   "cell_type": "markdown",
   "metadata": {
    "id": "JvUN6zb6CyXw"
   },
   "source": [
    "**3.1) (5 points)** Read the csv using Pandas. Select the top 6 frequent classes ('medical_specialty') from the data. Only keep the rows that belong to one of these classes in your data. Which classes are there, and how many rows do you have after this filteration?"
   ]
  },
  {
   "cell_type": "markdown",
   "metadata": {
    "id": "SXVcUqCbCyXw"
   },
   "source": [
    "**Ans.**\n",
    "\n",
    "The top 6 frequent classes from first to sixth are Surgery, Consult - History and Phy., Cardiovascular / Pulmonary,Orthopedic,Radiology, General Medicine. The number of filtered raws are 2878."
   ]
  },
  {
   "cell_type": "code",
   "execution_count": null,
   "metadata": {
    "id": "ySbF34kCCyXw",
    "outputId": "68d8af5e-9e69-4409-abd9-2e888b0aedca",
    "scrolled": true
   },
   "outputs": [
    {
     "name": "stdout",
     "output_type": "stream",
     "text": [
      "Size of raw data: (4999, 6)\n",
      "Size of filtered data: (2878, 6)\n",
      " Surgery                       1103\n",
      " Consult - History and Phy.     516\n",
      " Cardiovascular / Pulmonary     372\n",
      " Orthopedic                     355\n",
      " Radiology                      273\n",
      " General Medicine               259\n",
      "Name: medical_specialty, dtype: int64\n"
     ]
    },
    {
     "data": {
      "text/plain": [
       "[(0, ' Cardiovascular / Pulmonary'),\n",
       " (1, ' General Medicine'),\n",
       " (2, ' Surgery'),\n",
       " (3, ' Radiology'),\n",
       " (4, ' Orthopedic'),\n",
       " (5, ' Consult - History and Phy.')]"
      ]
     },
     "metadata": {},
     "output_type": "display_data"
    }
   ],
   "source": [
    "import pandas as pd\n",
    "raw = pd.read_csv('data/mtsamples.csv')\n",
    "print('Size of raw data: %s'%str(raw.shape))\n",
    "top6 = raw.medical_specialty.value_counts().index[:6].tolist()\n",
    "df = raw.loc[raw[\"medical_specialty\"].isin(top6)].reset_index(drop=True)\n",
    "print('Size of filtered data: %s'%str(df.shape))\n",
    "print(df['medical_specialty'].value_counts() )\n",
    "lbl_encode = pd.factorize(df['medical_specialty'])\n",
    "display(list((i,x)  for i,x in enumerate(lbl_encode[1]) ) )\n",
    "df['medical_specialty']= lbl_encode[0]   # label encoding\n",
    "df.drop(['Unnamed: 0'], inplace=True, axis=1)"
   ]
  },
  {
   "cell_type": "markdown",
   "metadata": {
    "id": "_NxY1RvPCyXw"
   },
   "source": [
    "**3.2) (5 points)** Now convert your data into train, test and validation set. Shuffle the rows, and split them with ratios of (train:70%, valid:15%, test:15%). Set the random seed to 2023. Please follow the steps from https://pytorch.org/docs/stable/notes/randomness.html to set all the seeds to make the results reproducible."
   ]
  },
  {
   "cell_type": "code",
   "execution_count": null,
   "metadata": {
    "id": "XG9iEpLUCyXx"
   },
   "outputs": [],
   "source": [
    "import torch\n",
    "import random\n",
    "import numpy as np\n",
    "def setup_seed(seed): \n",
    "    torch.use_deterministic_algorithms(True)\n",
    "    torch.manual_seed(seed) \n",
    "    torch.cuda.manual_seed_all(seed) \n",
    "    np.random.seed(seed) \n",
    "    random.seed(seed) \n",
    "    torch.backends.cudnn.deterministic = True\n",
    "    return None"
   ]
  },
  {
   "cell_type": "code",
   "execution_count": null,
   "metadata": {
    "id": "48dJoPKSCyXx",
    "outputId": "3ca678a4-0184-4dca-b0ce-fb4106ddd39a"
   },
   "outputs": [
    {
     "name": "stdout",
     "output_type": "stream",
     "text": [
      "Train set size: (2016, 5)\n",
      "Validation set size: (431, 5)\n",
      "Test set size: (431, 5)\n"
     ]
    }
   ],
   "source": [
    "idx = np.arange(len(df))\n",
    "np.random.seed(2023)        # already set by setup_seed function\n",
    "np.random.shuffle(idx)    # shuffle idx\n",
    "fifteen = int(len(idx) * 0.15 )\n",
    "idxs = np.split(idx, (fifteen, fifteen+fifteen)) # splitted to 15%, 15%, 70%\n",
    "validation = df.iloc[idxs[0]]\n",
    "test = df.iloc[idxs[1]]\n",
    "train = df.iloc[idxs[2]]\n",
    "print(f\"Train set size: {train.shape}\\nValidation set size: {validation.shape}\\nTest set size: {test.shape}\")\n",
    "# validation.to_pickle(\"data/validation.pkl\")\n",
    "# test.to_pickle(\"data/test.pkl\")\n",
    "# train.to_pickle(\"data/train.pkl\")\n",
    "\n"
   ]
  },
  {
   "cell_type": "markdown",
   "metadata": {
    "id": "xj93APonCyXx"
   },
   "source": [
    "**3.3) (5 points)** Create a function to create vocabulary from the training data. Only use the transcription column for this. Use the tokenization scheme of your choice and create a vocabulary."
   ]
  },
  {
   "cell_type": "code",
   "execution_count": null,
   "metadata": {
    "colab": {
     "base_uri": "https://localhost:8080/"
    },
    "id": "D2lLj81hCyXx",
    "outputId": "57259755-ea8d-4cf3-f653-4cc9a0f88505"
   },
   "outputs": [
    {
     "name": "stderr",
     "output_type": "stream",
     "text": [
      "[nltk_data] Downloading package punkt to /root/nltk_data...\n",
      "[nltk_data]   Package punkt is already up-to-date!\n"
     ]
    }
   ],
   "source": [
    "import nltk\n",
    "nltk.download('punkt')\n",
    "from collections import Counter   # track freq of each word\n",
    "from nltk.tokenize import word_tokenize"
   ]
  },
  {
   "cell_type": "code",
   "execution_count": null,
   "metadata": {
    "id": "DaD-107mCyXx"
   },
   "outputs": [],
   "source": [
    "# read saved files:\n",
    "import pandas as pd\n",
    "test = pd.read_pickle('data/test.pkl').reset_index(drop=True)\n",
    "validation = pd.read_pickle('data/validation.pkl').reset_index(drop=True)\n",
    "train = pd.read_pickle('data/train.pkl').reset_index(drop=True)"
   ]
  },
  {
   "cell_type": "code",
   "execution_count": null,
   "metadata": {
    "id": "9iAralvECyXx"
   },
   "outputs": [],
   "source": [
    "import re\n",
    "UNK = \"<UNK>\"\n",
    "PAD = \"<PAD>\"\n",
    "def create_vocab(sentences, min_count=3, max_vocab=None):\n",
    "    \"\"\"\n",
    "    data: input pandas Series made by strings\n",
    "    min_count: min frequency of a word to be kept\n",
    "    max_vocab: max vector length\n",
    "    \"\"\"\n",
    "    # preprocessing of strings:\n",
    "    pattern = re.compile('[^a-z]+') \n",
    "    sentences = sentences.str.lower().apply(lambda x: re.sub(pattern,' ', str(x)))\n",
    "    sentences = sentences.apply(word_tokenize)  # split to list\n",
    "    # count frequency\n",
    "    word_count = Counter()\n",
    "    for sentence in sentences:\n",
    "        word_count.update(sentence)\n",
    "    # result with filters\n",
    "    if max_vocab: word_count = word_count.most_common(max_vocab - 2)\n",
    "    vocabulary = list(w for w in word_count if word_count[w]>min_count) + [UNK, PAD]\n",
    "    indices = dict(zip(vocabulary, range(len(vocabulary)) ))   \n",
    "    return vocabulary, indices"
   ]
  },
  {
   "cell_type": "code",
   "execution_count": null,
   "metadata": {
    "colab": {
     "base_uri": "https://localhost:8080/"
    },
    "id": "Yqk148s3CyXx",
    "outputId": "e402505e-c9b7-4ade-feba-4de849f50a87"
   },
   "outputs": [
    {
     "name": "stdout",
     "output_type": "stream",
     "text": [
      "9540\n",
      "['preoperative', 'diagnosis', 'bladder', 'lesions', 'with']\n"
     ]
    }
   ],
   "source": [
    "# get vocab_index:\n",
    "vocabulary, vocab_index = create_vocab(train['transcription'])\n",
    "print(len(vocabulary)) # len of word\n",
    "print(vocabulary[:5])  # examples"
   ]
  },
  {
   "cell_type": "markdown",
   "metadata": {
    "id": "HUnuGObACyXx"
   },
   "source": [
    "**3.4) (10 points)** Write a dataloader and collate function so that we can begin to train our networks! You can choose to use either the complete transcription text or fix a maximum length of transcription text as input for your model."
   ]
  },
  {
   "cell_type": "code",
   "execution_count": null,
   "metadata": {
    "id": "7xhnlBl_CyXx"
   },
   "outputs": [],
   "source": [
    "import torch\n",
    "from torch.utils.data import DataLoader, Dataset\n",
    "from torch.nn.utils.rnn import pad_sequence\n",
    "class MyDataset(Dataset):\n",
    "    def __init__(self, vocab_index, df, label = 'medical_specialty'):\n",
    "        \"\"\"\n",
    "        vocab_index: dict of vocabulary in training set with dummy indices\n",
    "        df: input data\n",
    "        label: name of outcome column\n",
    "        \"\"\"\n",
    "        self.vocab_index = vocab_index\n",
    "        self.df = df\n",
    "        self.label = label\n",
    "    \n",
    "    def __len__(self):\n",
    "        return len(self.df)\n",
    "    \n",
    "    def __getitem__(self, key):\n",
    "        # preprocessing:\n",
    "        sentence = self.df.loc[key, 'transcription']\n",
    "        pattern = re.compile('[^a-z]+') \n",
    "        sentence = pattern.sub(' ', str(sentence).lower())\n",
    "        # turn to index based on vocab_index:\n",
    "        token_indices = np.array([self.vocab_index[word] if word in self.vocab_index else self.vocab_index['<UNK>'] for word in word_tokenize(sentence)])\n",
    "        return (torch.tensor(token_indices) , self.df.loc[key, self.label])\n",
    "def pad_collate(batch):\n",
    "    (xx, yy) = zip(*batch) # * will separate arguments to tuples\n",
    "    x_lens = [len(x) for x in xx]\n",
    "    xx_pad = pad_sequence(xx, batch_first=True, padding_value=9540-1) \n",
    "    # > 9540 = len(vocabulary) in training\n",
    "    # padding value == index of <PAD>\n",
    "    return torch.as_tensor(xx_pad), torch.as_tensor(x_lens), torch.LongTensor(yy)\n"
   ]
  },
  {
   "cell_type": "code",
   "execution_count": null,
   "metadata": {
    "id": "zJeugaTHCyXy"
   },
   "outputs": [],
   "source": [
    "# setup_seed(2023)\n",
    "BATCH_SIZE = 32\n",
    "train_loader = DataLoader(MyDataset(vocab_index, train),\n",
    "                          batch_size=BATCH_SIZE,\n",
    "                          shuffle=True,\n",
    "                          collate_fn = pad_collate)\n",
    "validate_loader = DataLoader(MyDataset(vocab_index, validation),\n",
    "                         batch_size=BATCH_SIZE,\n",
    "                         shuffle=True,\n",
    "                         collate_fn = pad_collate)\n",
    "test_loader = DataLoader(MyDataset(vocab_index, test),\n",
    "                         batch_size=BATCH_SIZE,\n",
    "                         shuffle=True,\n",
    "                         collate_fn = pad_collate)"
   ]
  },
  {
   "cell_type": "code",
   "execution_count": null,
   "metadata": {
    "colab": {
     "base_uri": "https://localhost:8080/"
    },
    "id": "zEisSoHsCyXy",
    "outputId": "17435033-c0d2-40ab-bfe5-d8f6cba2ee39"
   },
   "outputs": [
    {
     "name": "stdout",
     "output_type": "stream",
     "text": [
      "********************************Padded sequence*********************************\n",
      "tensor([   1, 5404, 3697,  ..., 9539, 9539, 9539])\n",
      "*******************************Length of sequence*******************************\n",
      "tensor([ 282,  419,  933,  421,   73,  589,  698, 1223,  191,  710,  352,  727,\n",
      "         413,  463,   40,  425,  457,  523,  378,  248,  430,  496,  162,  689,\n",
      "          99,  408,  611,  240,  406,  166,  620,  248])\n",
      "*******************************Label of sequence********************************\n",
      "tensor([2, 2, 2, 0, 2, 2, 2, 2, 5, 1, 3, 1, 0, 2, 0, 2, 5, 4, 2, 2, 2, 1, 3, 2,\n",
      "        3, 2, 2, 1, 3, 4, 5, 0])\n"
     ]
    }
   ],
   "source": [
    "sample_input = next(iter(train_loader))\n",
    "print(\"Padded sequence\".center(80, '*'))\n",
    "print(sample_input[0][0])\n",
    "print(\"Length of sequence\".center(80, '*'))\n",
    "print(sample_input[1])\n",
    "print(\"Label of sequence\".center(80, '*'))\n",
    "print(sample_input[2])"
   ]
  },
  {
   "cell_type": "markdown",
   "metadata": {
    "id": "7WTRAzeHCyXy"
   },
   "source": [
    "**3.5) (10 points)** Now you are ready to build your sequence classification model!\n",
    "\n",
    "First, Build a simple GRU model that takes as input the text indices from the vocabulary, and ends with a softmax over total number of classes. Use the embedding and hidden dimension of your choice. \n",
    "\n",
    "**Please train your model to reach at the least 50% accuracy on the test set.**\n",
    "\n",
    "At each epoch, compute and print **Average Cross Entropy loss** and **Accuracy** on both **train and validation set** \n",
    "\n",
    "Plot your validation and train loss over different epochs. \n",
    "\n",
    "Plot your validation and train accuracies over different epochs. \n",
    "\n",
    "Finally print accuracy on the test set."
   ]
  },
  {
   "cell_type": "markdown",
   "metadata": {
    "id": "meQRFEkORXjL"
   },
   "source": [
    "**Ans.** \n",
    "\n",
    "After 10 epochs, the RNN model start having overfitting issue. The accuracy using the model with highest accuracy selected by validation set is $0.4686$. I thus try to lower the learning rate \n",
    "\n",
    "I also switch to LSTM model and receive a $0.5545$ accuracy in testing set.\n",
    "\n",
    "**note**: Because I'm using cross entropy, which already embeds the softmax, I won't add a softmax layer in the model"
   ]
  },
  {
   "cell_type": "code",
   "execution_count": null,
   "metadata": {
    "id": "dIusJhg2CyXy"
   },
   "outputs": [],
   "source": [
    "import torch.nn as nn\n",
    "class RNN(nn.Module):\n",
    "    def __init__(self, hidden_dim, output_dim, \n",
    "                 vocab_size, embedding_dim, rnn='LSTM'):\n",
    "        super(RNN, self).__init__()\n",
    "        \n",
    "        self.emb = nn.Embedding(vocab_size, embedding_dim, padding_idx=vocab_size-1)\n",
    "        self.hidden_dim = hidden_dim\n",
    "        self.rnn_fn = rnn\n",
    "        assert self.rnn_fn in ['LSTM', 'RNN']\n",
    "        self.rnn = getattr(nn, rnn)(embedding_dim, hidden_dim, batch_first=True)\n",
    "        self.fc = nn.Linear(hidden_dim, output_dim)\n",
    "        \n",
    "    def forward(self, x, x_len):\n",
    "        x = self.emb(x)\n",
    "        _, last_hidden = self.rnn(pack_padded_sequence(x, x_len.to('cpu'), batch_first=True, enforce_sorted=False))\n",
    "        if self.rnn_fn == 'LSTM':\n",
    "            # (h,c)\n",
    "            # c_0: tensor containing the initial cell state for each element in the batch.\n",
    "            last_hidden = last_hidden[0]\n",
    "        out = self.fc(last_hidden.view(-1, self.hidden_dim))\n",
    "        \n",
    "        return out"
   ]
  },
  {
   "cell_type": "code",
   "execution_count": null,
   "metadata": {
    "id": "sJbntpeiCyXy"
   },
   "outputs": [],
   "source": [
    "import time\n",
    "from torch.nn.utils.rnn import pack_padded_sequence\n",
    "import copy\n",
    "import torch.nn.functional as F\n",
    "import matplotlib.pyplot as plt\n",
    "# use the setup of lab6 as base model:\n",
    "def plt_learning_curve(train_loss, test_loss, title=\"Loss\"):\n",
    "    fig, ax = plt.subplots()\n",
    "    ax.plot(train_loss, label=f'Training {title}')\n",
    "    ax.plot(test_loss, label=f'Validation {title}')\n",
    "    ax.set_title(title)\n",
    "    ax.set_xlabel('Epoch')\n",
    "    ax.set_ylabel(title)\n",
    "    ax.legend()\n",
    "    plt.show()\n",
    "def train_rnn(model, train_loader, validate_loader, test_loader, lr, num_epoch=10):\n",
    "    train_losses, validate_losses = [], []     # to save loss per epoch\n",
    "    train_acc, validate_acc = [], []\n",
    "    best_acc = 0\n",
    "    # Training steps\n",
    "    start_time = time.time()\n",
    "    loss_fn = nn.CrossEntropyLoss()\n",
    "    optimizer = torch.optim.Adam(model.parameters(), lr=lr, weight_decay=10**(-5))\n",
    "    for epoch in range(num_epoch):\n",
    "        model.train()\n",
    "        loss_accum = 0\n",
    "        correct = 0\n",
    "        total = 0\n",
    "        truths = []\n",
    "        for i, (data, data_len, labels) in enumerate(train_loader):\n",
    "            data, data_len, labels = data.to(device), data_len.to(device), labels.to(device)\n",
    "            outputs = model(data, data_len)\n",
    "            model.zero_grad()\n",
    "            loss = loss_fn(outputs.squeeze(), labels)\n",
    "            loss_accum += loss.item()\n",
    "            loss.backward()\n",
    "            optimizer.step()\n",
    "            pred = outputs.data.max(-1)[1]\n",
    "            truths += list(labels.cpu().numpy())\n",
    "            total += labels.size(0)\n",
    "            correct += (pred == labels).sum()  \n",
    "        acc_tr = (correct / total).cpu().item()\n",
    "        train_acc.append(acc_tr)\n",
    "        loss_accum = loss_accum / len(train_loader) \n",
    "        train_losses.append(loss_accum)\n",
    "        correct = 0\n",
    "        total = 0\n",
    "        model.eval()\n",
    "        truths = []\n",
    "        # evaluation using validation set:\n",
    "        with torch.no_grad():\n",
    "            loss_accum = 0\n",
    "            for i, (data, data_len, labels) in enumerate(validate_loader):\n",
    "                data, data_len, labels = data.to(device), data_len.to(device), labels.to(device)\n",
    "                outputs = model(data, data_len)\n",
    "                loss = loss_fn(outputs.squeeze(), labels)\n",
    "                loss_accum += loss.item()\n",
    "                pred = outputs.data.max(-1)[1]\n",
    "                truths += list(labels.cpu().numpy())\n",
    "                total += labels.size(0)\n",
    "                correct += (pred == labels).sum()\n",
    "            loss_accum = loss_accum / len(test_loader) \n",
    "            validate_losses.append(loss_accum)\n",
    "            acc = (correct / total).cpu().item()\n",
    "            validate_acc.append(acc)\n",
    "            if acc > best_acc:    # use accuracy as criteria for best model\n",
    "              best_acc = acc      # keep the params with best accuracy\n",
    "              best_acc_wts = copy.deepcopy(model.state_dict())\n",
    "            elapse = time.strftime('%H:%M:%S', time.gmtime(int((time.time() - start_time))))\n",
    "            # print('Validation set | Accuracy: {:6.4f} | time elapse: {:>9}'.format(acc, elapse))\n",
    "    model.load_state_dict(best_acc_wts)  # load model with best accuracy weights\n",
    "    plt_learning_curve(train_losses, validate_losses)\n",
    "    plt_learning_curve(train_acc, validate_acc, title=\"Accuracy\")\n",
    "    # testing accuracy:\n",
    "    correct = 0\n",
    "    total = 0\n",
    "    truths = []\n",
    "    with torch.no_grad():\n",
    "      for i, (data, data_len, labels) in enumerate(test_loader):\n",
    "        data, data_len, labels = data.to(device), data_len.to(device), labels.to(device)\n",
    "        outputs = model(data, data_len)\n",
    "        pred = outputs.data.max(-1)[1]\n",
    "        truths += list(labels.cpu().numpy())\n",
    "        total += labels.size(0)\n",
    "        correct += (pred == labels).sum()\n",
    "      acc = (correct / total)\n",
    "      print(f\"Testing accuracy: {acc}\")"
   ]
  },
  {
   "cell_type": "code",
   "execution_count": null,
   "metadata": {
    "colab": {
     "base_uri": "https://localhost:8080/",
     "height": 945
    },
    "id": "XOPqcTGACyXy",
    "outputId": "f44c42be-48c1-445b-c9e4-4e3f8d52f035"
   },
   "outputs": [
    {
     "data": {
      "image/png": "[encoded data removed]",
      "text/plain": [
       "<Figure size 640x480 with 1 Axes>"
      ]
     },
     "metadata": {},
     "output_type": "display_data"
    },
    {
     "data": {
      "image/png": "[encoded data removed]",
      "text/plain": [
       "<Figure size 640x480 with 1 Axes>"
      ]
     },
     "metadata": {},
     "output_type": "display_data"
    },
    {
     "name": "stdout",
     "output_type": "stream",
     "text": [
      "Testing accuracy: 0.46867749094963074\n"
     ]
    }
   ],
   "source": [
    "# RNN model with same setting as lab6\n",
    "device = torch.device('cuda' if torch.cuda.is_available() else 'cpu')\n",
    "rnn_model = RNN(40, 6, len(vocabulary), 50, rnn='RNN').to(device)\n",
    "train_rnn(rnn_model, train_loader, validate_loader, test_loader, lr=0.001, num_epoch=30)"
   ]
  },
  {
   "cell_type": "code",
   "execution_count": null,
   "metadata": {
    "colab": {
     "base_uri": "https://localhost:8080/",
     "height": 945
    },
    "id": "7T5_Arp6Utej",
    "outputId": "5d17507a-8c80-4d58-f8a9-1ca2b717d8e9"
   },
   "outputs": [
    {
     "data": {
      "image/png": "[encoded data removed]",
      "text/plain": [
       "<Figure size 640x480 with 1 Axes>"
      ]
     },
     "metadata": {},
     "output_type": "display_data"
    },
    {
     "data": {
      "image/png": "[encoded data removed]",
      "text/plain": [
       "<Figure size 640x480 with 1 Axes>"
      ]
     },
     "metadata": {},
     "output_type": "display_data"
    },
    {
     "name": "stdout",
     "output_type": "stream",
     "text": [
      "Testing accuracy: 0.443155437707901\n"
     ]
    }
   ],
   "source": [
    "# RNN model with reduced learning rate\n",
    "device = torch.device('cuda' if torch.cuda.is_available() else 'cpu')\n",
    "rnn_model = RNN(40, 6, len(vocabulary), 50, rnn='RNN').to(device)\n",
    "train_rnn(rnn_model, train_loader, validate_loader, test_loader, lr=0.0005, num_epoch=30)"
   ]
  },
  {
   "cell_type": "code",
   "execution_count": null,
   "metadata": {
    "colab": {
     "base_uri": "https://localhost:8080/",
     "height": 945
    },
    "id": "9ILGHrwwH4-I",
    "outputId": "751756a2-e8bb-4dfb-873a-d8d66d2bfe46"
   },
   "outputs": [
    {
     "data": {
      "image/png": "[encoded data removed]",
      "text/plain": [
       "<Figure size 640x480 with 1 Axes>"
      ]
     },
     "metadata": {},
     "output_type": "display_data"
    },
    {
     "data": {
      "image/png": "[encoded data removed]",
      "text/plain": [
       "<Figure size 640x480 with 1 Axes>"
      ]
     },
     "metadata": {},
     "output_type": "display_data"
    },
    {
     "name": "stdout",
     "output_type": "stream",
     "text": [
      "Testing accuracy: 0.5545243620872498\n"
     ]
    }
   ],
   "source": [
    "# LSTM model:\n",
    "lstm_model = RNN(40, 6, len(vocabulary), 50, rnn='LSTM').to(device)\n",
    "train_rnn(lstm_model, train_loader, validate_loader, test_loader, lr=0.001, num_epoch=30)"
   ]
  },
  {
   "cell_type": "markdown",
   "metadata": {
    "id": "bVEuXoeeCyXy"
   },
   "source": [
    "**3.6) (25 points)** Now, let's finetune a sequence classification model based on BERT. Please install the Huggingface's Transformers library for this. Use the Pretrained 'bert-base-uncased' model for this problem. Please use the BERT tokenizer from the pretrained built for 'bert-base-uncased' model . Use the AdamW optimizer from the transformers library for optimization. Remember BERT uses Attention masks for input so you need to create a separate dataloader for BERT. Please keep in mind that BERT can handle maximum of 512 tokens.\n",
    "\n",
    "**Please finetune the model so that it reaches at least 60% accuracy on the test set.**\n",
    "\n",
    "The rest of your experimental setting should be the same as 3.5:\n",
    "\n",
    "At each epoch, compute and print **Average Cross Entropy loss** and **Accuracy** on both **train and validation set** \n",
    "\n",
    "Plot your validation and train loss over different epochs. \n",
    "\n",
    "Plot your validation and train accuracies over different epochs. \n",
    "\n",
    "Finally print accuracy on the test set."
   ]
  },
  {
   "cell_type": "code",
   "execution_count": null,
   "metadata": {
    "id": "GLy0DEI_siKQ"
   },
   "outputs": [],
   "source": [
    "!pip install transformers datasets evaluate"
   ]
  },
  {
   "cell_type": "code",
   "execution_count": null,
   "metadata": {
    "colab": {
     "base_uri": "https://localhost:8080/"
    },
    "id": "rZDmbiwzAK5r",
    "outputId": "61e7d405-d1e8-4517-f741-666cd41d82e1"
   },
   "outputs": [
    {
     "name": "stdout",
     "output_type": "stream",
     "text": [
      "Drive already mounted at /content/drive; to attempt to forcibly remount, call drive.mount(\"/content/drive\", force_remount=True).\n"
     ]
    }
   ],
   "source": [
    "# read saved files:\n",
    "import pandas as pd\n",
    "# Run this cell if you are working on Google Colab\n",
    "from google.colab import drive\n",
    "import os\n",
    "drive.mount('/content/drive')\n",
    "\n",
    "path = 'Colab Notebooks/'  # Change this to your drive directory\n",
    "os.chdir(os.path.join('drive/MyDrive', path))\n",
    "# drop data with no input:\n",
    "test = pd.read_pickle('data/test.pkl').dropna(subset=['transcription']).reset_index(drop=True)\n",
    "validation = pd.read_pickle('data/validation.pkl').dropna(subset=['transcription']).reset_index(drop=True)\n",
    "train = pd.read_pickle('data/train.pkl').dropna(subset=['transcription']).reset_index(drop=True)"
   ]
  },
  {
   "cell_type": "code",
   "execution_count": null,
   "metadata": {
    "colab": {
     "base_uri": "https://localhost:8080/",
     "height": 337
    },
    "id": "zJpMgfMitW-Z",
    "outputId": "db9701c4-1f3b-42a0-ad08-e28d2f88f012"
   },
   "outputs": [
    {
     "data": {
      "text/html": [
       "\n",
       "  <div id=\"df-9248b69e-1a99-4ed9-bfd7-0348ce98cda7\">\n",
       "    <div class=\"colab-df-container\">\n",
       "      <div>\n",
       "<style scoped>\n",
       "    .dataframe tbody tr th:only-of-type {\n",
       "        vertical-align: middle;\n",
       "    }\n",
       "\n",
       "    .dataframe tbody tr th {\n",
       "        vertical-align: top;\n",
       "    }\n",
       "\n",
       "    .dataframe thead th {\n",
       "        text-align: right;\n",
       "    }\n",
       "</style>\n",
       "<table border=\"1\" class=\"dataframe\">\n",
       "  <thead>\n",
       "    <tr style=\"text-align: right;\">\n",
       "      <th></th>\n",
       "      <th>description</th>\n",
       "      <th>medical_specialty</th>\n",
       "      <th>sample_name</th>\n",
       "      <th>transcription</th>\n",
       "      <th>keywords</th>\n",
       "    </tr>\n",
       "  </thead>\n",
       "  <tbody>\n",
       "    <tr>\n",
       "      <th>0</th>\n",
       "      <td>Cystoscopy, bladder biopsies, and fulguration...</td>\n",
       "      <td>2</td>\n",
       "      <td>Bladder Biopsies &amp; Fulguration</td>\n",
       "      <td>preoperative diagnosis bladder lesions with hi...</td>\n",
       "      <td>surgery, cystoscope, carcinoma, transitional c...</td>\n",
       "    </tr>\n",
       "    <tr>\n",
       "      <th>1</th>\n",
       "      <td>Arthroscopic procedure of the knee.</td>\n",
       "      <td>2</td>\n",
       "      <td>Knee Arthroscopy - 1</td>\n",
       "      <td>procedure in detail after written consent was ...</td>\n",
       "      <td>surgery, chondroplasty, knee, meniscus, patell...</td>\n",
       "    </tr>\n",
       "    <tr>\n",
       "      <th>2</th>\n",
       "      <td>Sample female physical exam</td>\n",
       "      <td>1</td>\n",
       "      <td>Female Physical Exam - 1</td>\n",
       "      <td>female physical examination eye eyelids normal...</td>\n",
       "      <td>general medicine, physical examination, abdomi...</td>\n",
       "    </tr>\n",
       "    <tr>\n",
       "      <th>3</th>\n",
       "      <td>Stress test with Bruce protocol due to chest ...</td>\n",
       "      <td>3</td>\n",
       "      <td>Stress Test Bruce Protocol</td>\n",
       "      <td>protocol bruce pertinent medication none reaso...</td>\n",
       "      <td>NaN</td>\n",
       "    </tr>\n",
       "    <tr>\n",
       "      <th>4</th>\n",
       "      <td>Sample Radiology report of knee (growth arres...</td>\n",
       "      <td>4</td>\n",
       "      <td>Five views of the right knee.</td>\n",
       "      <td>exam five views of the right knee history pain...</td>\n",
       "      <td>orthopedic, fractures dislocations or subluxat...</td>\n",
       "    </tr>\n",
       "  </tbody>\n",
       "</table>\n",
       "</div>\n",
       "      <button class=\"colab-df-convert\" onclick=\"convertToInteractive('df-9248b69e-1a99-4ed9-bfd7-0348ce98cda7')\"\n",
       "              title=\"Convert this dataframe to an interactive table.\"\n",
       "              style=\"display:none;\">\n",
       "        \n",
       "  <svg xmlns=\"http://www.w3.org/2000/svg\" height=\"24px\"viewBox=\"0 0 24 24\"\n",
       "       width=\"24px\">\n",
       "    <path d=\"M0 0h24v24H0V0z\" fill=\"none\"/>\n",
       "    <path d=\"M18.56 5.44l.94 2.06.94-2.06 2.06-.94-2.06-.94-.94-2.06-.94 2.06-2.06.94zm-11 1L8.5 8.5l.94-2.06 2.06-.94-2.06-.94L8.5 2.5l-.94 2.06-2.06.94zm10 10l.94 2.06.94-2.06 2.06-.94-2.06-.94-.94-2.06-.94 2.06-2.06.94z\"/><path d=\"M17.41 7.96l-1.37-1.37c-.4-.4-.92-.59-1.43-.59-.52 0-1.04.2-1.43.59L10.3 9.45l-7.72 7.72c-.78.78-.78 2.05 0 2.83L4 21.41c.39.39.9.59 1.41.59.51 0 1.02-.2 1.41-.59l7.78-7.78 2.81-2.81c.8-.78.8-2.07 0-2.86zM5.41 20L4 18.59l7.72-7.72 1.47 1.35L5.41 20z\"/>\n",
       "  </svg>\n",
       "      </button>\n",
       "      \n",
       "  <style>\n",
       "    .colab-df-container {\n",
       "      display:flex;\n",
       "      flex-wrap:wrap;\n",
       "      gap: 12px;\n",
       "    }\n",
       "\n",
       "    .colab-df-convert {\n",
       "      background-color: #E8F0FE;\n",
       "      border: none;\n",
       "      border-radius: 50%;\n",
       "      cursor: pointer;\n",
       "      display: none;\n",
       "      fill: #1967D2;\n",
       "      height: 32px;\n",
       "      padding: 0 0 0 0;\n",
       "      width: 32px;\n",
       "    }\n",
       "\n",
       "    .colab-df-convert:hover {\n",
       "      background-color: #E2EBFA;\n",
       "      box-shadow: 0px 1px 2px rgba(60, 64, 67, 0.3), 0px 1px 3px 1px rgba(60, 64, 67, 0.15);\n",
       "      fill: #174EA6;\n",
       "    }\n",
       "\n",
       "    [theme=dark] .colab-df-convert {\n",
       "      background-color: #3B4455;\n",
       "      fill: #D2E3FC;\n",
       "    }\n",
       "\n",
       "    [theme=dark] .colab-df-convert:hover {\n",
       "      background-color: #434B5C;\n",
       "      box-shadow: 0px 1px 3px 1px rgba(0, 0, 0, 0.15);\n",
       "      filter: drop-shadow(0px 1px 2px rgba(0, 0, 0, 0.3));\n",
       "      fill: #FFFFFF;\n",
       "    }\n",
       "  </style>\n",
       "\n",
       "      <script>\n",
       "        const buttonEl =\n",
       "          document.querySelector('#df-9248b69e-1a99-4ed9-bfd7-0348ce98cda7 button.colab-df-convert');\n",
       "        buttonEl.style.display =\n",
       "          google.colab.kernel.accessAllowed ? 'block' : 'none';\n",
       "\n",
       "        async function convertToInteractive(key) {\n",
       "          const element = document.querySelector('#df-9248b69e-1a99-4ed9-bfd7-0348ce98cda7');\n",
       "          const dataTable =\n",
       "            await google.colab.kernel.invokeFunction('convertToInteractive',\n",
       "                                                     [key], {});\n",
       "          if (!dataTable) return;\n",
       "\n",
       "          const docLinkHtml = 'Like what you see? Visit the ' +\n",
       "            '<a target=\"_blank\" href=https://colab.research.google.com/notebooks/data_table.ipynb>data table notebook</a>'\n",
       "            + ' to learn more about interactive tables.';\n",
       "          element.innerHTML = '';\n",
       "          dataTable['output_type'] = 'display_data';\n",
       "          await google.colab.output.renderOutput(dataTable, element);\n",
       "          const docLink = document.createElement('div');\n",
       "          docLink.innerHTML = docLinkHtml;\n",
       "          element.appendChild(docLink);\n",
       "        }\n",
       "      </script>\n",
       "    </div>\n",
       "  </div>\n",
       "  "
      ],
      "text/plain": [
       "                                         description  medical_specialty  \\\n",
       "0   Cystoscopy, bladder biopsies, and fulguration...                  2   \n",
       "1                Arthroscopic procedure of the knee.                  2   \n",
       "2                        Sample female physical exam                  1   \n",
       "3   Stress test with Bruce protocol due to chest ...                  3   \n",
       "4   Sample Radiology report of knee (growth arres...                  4   \n",
       "\n",
       "                        sample_name  \\\n",
       "0   Bladder Biopsies & Fulguration    \n",
       "1             Knee Arthroscopy - 1    \n",
       "2         Female Physical Exam - 1    \n",
       "3       Stress Test Bruce Protocol    \n",
       "4    Five views of the right knee.    \n",
       "\n",
       "                                       transcription  \\\n",
       "0  preoperative diagnosis bladder lesions with hi...   \n",
       "1  procedure in detail after written consent was ...   \n",
       "2  female physical examination eye eyelids normal...   \n",
       "3  protocol bruce pertinent medication none reaso...   \n",
       "4  exam five views of the right knee history pain...   \n",
       "\n",
       "                                            keywords  \n",
       "0  surgery, cystoscope, carcinoma, transitional c...  \n",
       "1  surgery, chondroplasty, knee, meniscus, patell...  \n",
       "2  general medicine, physical examination, abdomi...  \n",
       "3                                                NaN  \n",
       "4  orthopedic, fractures dislocations or subluxat...  "
      ]
     },
     "execution_count": 23,
     "metadata": {},
     "output_type": "execute_result"
    }
   ],
   "source": [
    "train.head()"
   ]
  },
  {
   "cell_type": "code",
   "execution_count": null,
   "metadata": {
    "id": "T9HHXBL-uLXA"
   },
   "outputs": [],
   "source": [
    "import re\n",
    "def cleaned(df):\n",
    "  pattern = re.compile('[^a-z]+') \n",
    "  df['transcription'] = df['transcription'].apply(lambda x:pattern.sub(' ', str(x).lower()))\n",
    "  return df[['medical_specialty','transcription']]"
   ]
  },
  {
   "cell_type": "code",
   "execution_count": null,
   "metadata": {
    "colab": {
     "base_uri": "https://localhost:8080/"
    },
    "id": "jMd1DcwhtPZP",
    "outputId": "5aa4f9a1-576a-4a84-fe8c-c364528d74cf"
   },
   "outputs": [
    {
     "data": {
      "text/plain": [
       "DatasetDict({\n",
       "    train: Dataset({\n",
       "        features: ['medical_specialty', 'transcription'],\n",
       "        num_rows: 2005\n",
       "    })\n",
       "    validate: Dataset({\n",
       "        features: ['medical_specialty', 'transcription'],\n",
       "        num_rows: 428\n",
       "    })\n",
       "    test: Dataset({\n",
       "        features: ['medical_specialty', 'transcription'],\n",
       "        num_rows: 429\n",
       "    })\n",
       "})"
      ]
     },
     "execution_count": 4,
     "metadata": {},
     "output_type": "execute_result"
    }
   ],
   "source": [
    "# create huggingface dataset:\n",
    "from datasets import load_dataset, Dataset, DatasetDict\n",
    "train_hf = Dataset.from_pandas(cleaned(train)) # cleaned() to rm useless cols\n",
    "validate_hf = Dataset.from_pandas(cleaned(validation))\n",
    "test_hf = Dataset.from_pandas(cleaned(test))\n",
    "df_hf = DatasetDict({\n",
    "    'train':train_hf,\n",
    "    'validate':validate_hf,\n",
    "    'test':test_hf\n",
    "})\n",
    "df_hf"
   ]
  },
  {
   "cell_type": "code",
   "execution_count": null,
   "metadata": {
    "colab": {
     "base_uri": "https://localhost:8080/"
    },
    "id": "JgJ4fUrowKcz",
    "outputId": "6d7ae562-5973-4a80-dacd-297ff6abc221"
   },
   "outputs": [
    {
     "name": "stdout",
     "output_type": "stream",
     "text": [
      "BertTokenizerFast(name_or_path='bert-base-uncased', vocab_size=30522, model_max_length=512, is_fast=True, padding_side='right', truncation_side='right', special_tokens={'unk_token': '[UNK]', 'sep_token': '[SEP]', 'pad_token': '[PAD]', 'cls_token': '[CLS]', 'mask_token': '[MASK]'}, clean_up_tokenization_spaces=True)\n",
      "['input_ids', 'token_type_ids', 'attention_mask']\n"
     ]
    }
   ],
   "source": [
    "# tokenization:\n",
    "from transformers import AutoTokenizer\n",
    "model_name = 'bert-base-uncased'\n",
    "tokenizer = AutoTokenizer.from_pretrained(model_name)\n",
    "print(tokenizer)                   # check basic info. Eg. vocab size, max length\n",
    "print(tokenizer.model_input_names) # input names"
   ]
  },
  {
   "cell_type": "code",
   "execution_count": null,
   "metadata": {
    "colab": {
     "base_uri": "https://localhost:8080/"
    },
    "id": "BQK0Sq7kzxRY",
    "outputId": "2c07e26b-e40a-48b7-ee49-8874a7627199"
   },
   "outputs": [
    {
     "name": "stdout",
     "output_type": "stream",
     "text": [
      "{'input_ids': [101, 2074, 9361, 19204, 3989, 102], 'token_type_ids': [0, 0, 0, 0, 0, 0], 'attention_mask': [1, 1, 1, 1, 1, 1]}\n",
      "['[CLS]', 'just', 'checking', 'token', '##ization', '[SEP]']\n",
      "[CLS] just checking tokenization [SEP]\n"
     ]
    }
   ],
   "source": [
    "# demo of tokenization\n",
    "output = tokenizer('Just checking tokenization')\n",
    "print(output)\n",
    "tokens = tokenizer.convert_ids_to_tokens(output['input_ids'])\n",
    "print(tokens) # with masking\n",
    "print(tokenizer.convert_tokens_to_string(tokens)) # original text"
   ]
  },
  {
   "cell_type": "code",
   "execution_count": null,
   "metadata": {
    "colab": {
     "base_uri": "https://localhost:8080/",
     "height": 17,
     "referenced_widgets": [
      "f320d759fa8144ce863ee4c79c91a0d5",
      "519b7ffc62a64853879a0c3ff3dec7b9",
      "94ff910ba0b14bbc980d0cd080618695",
      "cd832f7cbd454ea68fdeb4d54b915ea3",
      "4c8f418f58944502b8a77f3f348940ed",
      "ce9589c2366b45a688f12af074b030a9",
      "dd067031e0114714b34a62fcb756f4eb",
      "52bc3d08398e49aeba0d2bb5ac4113e8",
      "e29615a4ba6e4f4a946b43bb5ad0693a",
      "3661e10c00ee434e84181fdfa28c2b88",
      "c6a3636ce7ca43e4a048f7e8d4b83c46",
      "e6da39e031b94c389b1a1acd67eac463",
      "03e0b76d908e491fb9b0c39fa8171a83",
      "c83bf5a24dbb4235931da4990533ada0",
      "e7cc8492788b45fb868bdb5b2a341141",
      "bdd96c63a93d4cee9f1e68a55faddc55",
      "16d7b4b4c0a944a4b93600393cffe558",
      "9f04f8a767b74272a4dc8a86546303f0",
      "d8314399a8ee415f93554be27e720ec4",
      "bb2fd538351f402281c3eaee6f5a62d9",
      "5e1ad41fd9a14cc3b8c1fbe66970cb02",
      "a0fa4902a21e42b9a89e2aa3cc50254c",
      "9198616cdc01458fb893c46fc38a78a9",
      "32999750f78d4a81817df542916bfd3f",
      "139bb8f83a514a4b8134ff18dcf386cb",
      "40760d259c3f40078df8f82b0053fee0",
      "5b82c692842744f2aad04dc7d68b463d",
      "ebb61cdb84ee489a9a88962860639c17",
      "fdce207ef3944d9e84024d3e26f91229",
      "b82098108248426fbb38e8781939ae9e",
      "2b9f3335bc1d4c199dd0f575a6887363",
      "ddd03e0dae1f4baeb3ffd629083bd0b6",
      "2cbcbee76dea43169cdc50423e175685"
     ]
    },
    "id": "5kO973rz0Qdc",
    "outputId": "8b92c131-bc12-4506-f9d7-cb28ce0f1761"
   },
   "outputs": [
    {
     "data": {
      "application/vnd.jupyter.widget-view+json": {
       "model_id": "f320d759fa8144ce863ee4c79c91a0d5",
       "version_major": 2,
       "version_minor": 0
      },
      "text/plain": [
       "Map:   0%|          | 0/2005 [00:00<?, ? examples/s]"
      ]
     },
     "metadata": {},
     "output_type": "display_data"
    },
    {
     "data": {
      "application/vnd.jupyter.widget-view+json": {
       "model_id": "e6da39e031b94c389b1a1acd67eac463",
       "version_major": 2,
       "version_minor": 0
      },
      "text/plain": [
       "Map:   0%|          | 0/428 [00:00<?, ? examples/s]"
      ]
     },
     "metadata": {},
     "output_type": "display_data"
    },
    {
     "data": {
      "application/vnd.jupyter.widget-view+json": {
       "model_id": "9198616cdc01458fb893c46fc38a78a9",
       "version_major": 2,
       "version_minor": 0
      },
      "text/plain": [
       "Map:   0%|          | 0/429 [00:00<?, ? examples/s]"
      ]
     },
     "metadata": {},
     "output_type": "display_data"
    }
   ],
   "source": [
    "# to tokenize the clean column:\n",
    "df_hf = df_hf.rename_column('medical_specialty', 'labels') # to match the 'Trainer' function\n",
    "tokenized_df = df_hf.map(lambda x:(tokenizer(x['transcription'], \n",
    "                                             padding='max_length', \n",
    "                                             truncation=True, \n",
    "                                             return_tensors='pt')), \n",
    "                         batched=True, remove_columns=['transcription'] )\n",
    "\n",
    "train_dataset = tokenized_df[\"train\"]\n",
    "validate_dataset = tokenized_df[\"validate\"]\n",
    "test_dataset = tokenized_df[\"test\"]"
   ]
  },
  {
   "cell_type": "code",
   "execution_count": null,
   "metadata": {
    "colab": {
     "base_uri": "https://localhost:8080/"
    },
    "id": "sQ9DjPxDPhlV",
    "outputId": "bffb2949-ad66-475d-ca87-2d9aedae65d6"
   },
   "outputs": [
    {
     "data": {
      "text/plain": [
       "Dataset({\n",
       "    features: ['labels', 'input_ids', 'token_type_ids', 'attention_mask'],\n",
       "    num_rows: 2005\n",
       "})"
      ]
     },
     "execution_count": 9,
     "metadata": {},
     "output_type": "execute_result"
    }
   ],
   "source": [
    "train_dataset # Trainer will use labels as Y, input_ids as X"
   ]
  },
  {
   "cell_type": "code",
   "execution_count": null,
   "metadata": {
    "colab": {
     "base_uri": "https://localhost:8080/"
    },
    "id": "FSAyljebCZYO",
    "outputId": "ee2e532f-484d-4b3f-8e17-da5f15d3b66f"
   },
   "outputs": [
    {
     "name": "stderr",
     "output_type": "stream",
     "text": [
      "Some weights of the model checkpoint at bert-base-uncased were not used when initializing BertForSequenceClassification: ['cls.seq_relationship.weight', 'cls.predictions.transform.dense.bias', 'cls.predictions.bias', 'cls.predictions.transform.LayerNorm.bias', 'cls.seq_relationship.bias', 'cls.predictions.transform.dense.weight', 'cls.predictions.decoder.weight', 'cls.predictions.transform.LayerNorm.weight']\n",
      "- This IS expected if you are initializing BertForSequenceClassification from the checkpoint of a model trained on another task or with another architecture (e.g. initializing a BertForSequenceClassification model from a BertForPreTraining model).\n",
      "- This IS NOT expected if you are initializing BertForSequenceClassification from the checkpoint of a model that you expect to be exactly identical (initializing a BertForSequenceClassification model from a BertForSequenceClassification model).\n",
      "Some weights of BertForSequenceClassification were not initialized from the model checkpoint at bert-base-uncased and are newly initialized: ['classifier.bias', 'classifier.weight']\n",
      "You should probably TRAIN this model on a down-stream task to be able to use it for predictions and inference.\n"
     ]
    }
   ],
   "source": [
    "from transformers import AutoConfig, AutoTokenizer, AutoModelForSequenceClassification\n",
    "# my_config = AutoConfig.from_pretrained(model_name)\n",
    "model = AutoModelForSequenceClassification.from_pretrained(model_name, num_labels=6)"
   ]
  },
  {
   "cell_type": "code",
   "execution_count": null,
   "metadata": {
    "id": "1W5nmln4BCPp"
   },
   "outputs": [],
   "source": [
    "import evaluate\n",
    "import numpy as np\n",
    "metric = evaluate.load(\"accuracy\")\n",
    "def compute_metrics(eval_pred):\n",
    "    logits, labels = eval_pred\n",
    "    predictions = np.argmax(logits, axis=-1)\n",
    "    return metric.compute(predictions=predictions, references=labels)\n"
   ]
  },
  {
   "cell_type": "code",
   "execution_count": null,
   "metadata": {
    "id": "aHP2N8F7QOhA"
   },
   "outputs": [],
   "source": [
    "import torch\n",
    "torch.cuda.is_available()\n",
    "torch.cuda.empty_cache()"
   ]
  },
  {
   "cell_type": "code",
   "execution_count": 45,
   "metadata": {
    "id": "bx-ih4Z5CyXy"
   },
   "outputs": [],
   "source": [
    "from transformers import TrainingArguments, Trainer\n",
    "training_args = TrainingArguments(output_dir=\"trainer\", \n",
    "                                  evaluation_strategy=\"epoch\",\n",
    "                                  optim='adamw_torch',\n",
    "                                  logging_strategy=\"epoch\",\n",
    "                                  fp16=True,\n",
    "                                  # per_device_train_batch_size=16,\n",
    "                                  # per_device_eval_batch_size=16,\n",
    "                                  # torch_compile=True,    # improves training efficiency\n",
    "                                  load_best_model_at_end=True,\n",
    "                                  metric_for_best_model='accuracy',\n",
    "                                  save_strategy=\"epoch\",\n",
    "                                  num_train_epochs=10\n",
    "                                  )\n",
    "trainer = Trainer(\n",
    "    model=model,\n",
    "    args=training_args,\n",
    "    train_dataset=train_dataset,\n",
    "    eval_dataset=validate_dataset,\n",
    "    compute_metrics=compute_metrics\n",
    ")\n"
   ]
  },
  {
   "cell_type": "code",
   "execution_count": null,
   "metadata": {
    "id": "yzq4Xxi2Ytoh"
   },
   "outputs": [],
   "source": [
    "# print(torch.cuda.memory_summary(device=None, abbreviated=False) ) # check memory usage"
   ]
  },
  {
   "cell_type": "code",
   "execution_count": 46,
   "metadata": {
    "colab": {
     "base_uri": "https://localhost:8080/",
     "height": 389
    },
    "id": "_6y_FHiqPosB",
    "outputId": "eac90da6-1e5e-42b5-d002-e576363e7ab5"
   },
   "outputs": [
    {
     "data": {
      "text/html": [
       "\n",
       "    <div>\n",
       "      \n",
       "      <progress value='2510' max='2510' style='width:300px; height:20px; vertical-align: middle;'></progress>\n",
       "      [2510/2510 16:00, Epoch 10/10]\n",
       "    </div>\n",
       "    <table border=\"1\" class=\"dataframe\">\n",
       "  <thead>\n",
       " <tr style=\"text-align: left;\">\n",
       "      <th>Epoch</th>\n",
       "      <th>Training Loss</th>\n",
       "      <th>Validation Loss</th>\n",
       "      <th>Accuracy</th>\n",
       "    </tr>\n",
       "  </thead>\n",
       "  <tbody>\n",
       "    <tr>\n",
       "      <td>1</td>\n",
       "      <td>0.518900</td>\n",
       "      <td>1.066668</td>\n",
       "      <td>0.567757</td>\n",
       "    </tr>\n",
       "    <tr>\n",
       "      <td>2</td>\n",
       "      <td>0.585200</td>\n",
       "      <td>1.104571</td>\n",
       "      <td>0.553738</td>\n",
       "    </tr>\n",
       "    <tr>\n",
       "      <td>3</td>\n",
       "      <td>0.567500</td>\n",
       "      <td>1.170988</td>\n",
       "      <td>0.525701</td>\n",
       "    </tr>\n",
       "    <tr>\n",
       "      <td>4</td>\n",
       "      <td>0.514300</td>\n",
       "      <td>1.304906</td>\n",
       "      <td>0.525701</td>\n",
       "    </tr>\n",
       "    <tr>\n",
       "      <td>5</td>\n",
       "      <td>0.484300</td>\n",
       "      <td>1.341633</td>\n",
       "      <td>0.530374</td>\n",
       "    </tr>\n",
       "    <tr>\n",
       "      <td>6</td>\n",
       "      <td>0.450100</td>\n",
       "      <td>1.524239</td>\n",
       "      <td>0.502336</td>\n",
       "    </tr>\n",
       "    <tr>\n",
       "      <td>7</td>\n",
       "      <td>0.405900</td>\n",
       "      <td>1.663852</td>\n",
       "      <td>0.476636</td>\n",
       "    </tr>\n",
       "    <tr>\n",
       "      <td>8</td>\n",
       "      <td>0.387900</td>\n",
       "      <td>1.847929</td>\n",
       "      <td>0.448598</td>\n",
       "    </tr>\n",
       "    <tr>\n",
       "      <td>9</td>\n",
       "      <td>0.357400</td>\n",
       "      <td>2.035806</td>\n",
       "      <td>0.471963</td>\n",
       "    </tr>\n",
       "    <tr>\n",
       "      <td>10</td>\n",
       "      <td>0.329700</td>\n",
       "      <td>2.118677</td>\n",
       "      <td>0.464953</td>\n",
       "    </tr>\n",
       "  </tbody>\n",
       "</table><p>"
      ],
      "text/plain": [
       "<IPython.core.display.HTML object>"
      ]
     },
     "metadata": {},
     "output_type": "display_data"
    }
   ],
   "source": [
    "training_output = trainer.train()"
   ]
  },
  {
   "cell_type": "code",
   "execution_count": 65,
   "metadata": {
    "id": "IdD5nsk9m2tj"
   },
   "outputs": [],
   "source": [
    "# save model:\n",
    "trainer.save_model(\"trained_bert_model\")"
   ]
  },
  {
   "cell_type": "code",
   "execution_count": 61,
   "metadata": {
    "colab": {
     "base_uri": "https://localhost:8080/",
     "height": 449
    },
    "id": "59_2-DdIkx9q",
    "outputId": "d416ad19-bd1c-493e-e073-97c64d0662e9"
   },
   "outputs": [
    {
     "data": {
      "image/png": "[encoded data removed]",
      "text/plain": [
       "<Figure size 640x480 with 1 Axes>"
      ]
     },
     "metadata": {},
     "output_type": "display_data"
    }
   ],
   "source": [
    "# plot the learning curve:\n",
    "train_loss_values = []\n",
    "eval_loss_values = []\n",
    "import matplotlib.pyplot as plt\n",
    "for item in trainer.state.log_history:\n",
    "    train_loss = item.get('loss', None)\n",
    "    eval_loss = item.get('eval_loss', None)\n",
    "    if train_loss:\n",
    "      train_loss_values.append(train_loss)\n",
    "    if eval_loss:\n",
    "      eval_loss_values.append(eval_loss)\n",
    "plt.plot(train_loss_values, label=\"Training Loss\")\n",
    "plt.plot(eval_loss_values, label=\"Evaluation Loss\")\n",
    "plt.xlabel(\"Epoch\")\n",
    "plt.ylabel(\"Loss\")\n",
    "plt.legend()\n",
    "plt.show()"
   ]
  },
  {
   "cell_type": "code",
   "execution_count": 71,
   "metadata": {
    "colab": {
     "base_uri": "https://localhost:8080/",
     "height": 35
    },
    "id": "ZFQ8jwUFWPCo",
    "outputId": "7f4c68f3-373c-4e47-8221-fabb5857303f"
   },
   "outputs": [
    {
     "data": {
      "text/html": [],
      "text/plain": [
       "<IPython.core.display.HTML object>"
      ]
     },
     "metadata": {},
     "output_type": "display_data"
    },
    {
     "name": "stdout",
     "output_type": "stream",
     "text": [
      "Testing set accuracy: 0.5967365967365967\n"
     ]
    }
   ],
   "source": [
    "outputs = trainer.predict(test_dataset)[0]\n",
    "test_acc = np.mean(np.argmax(outputs, axis=1) == test_dataset['labels'])\n",
    "print(f\"Testing set accuracy: {test_acc}\")"
   ]
  },
  {
   "cell_type": "markdown",
   "metadata": {
    "id": "SW4MI70qCyXy"
   },
   "source": [
    "**3.7) (Bonus maximum 10 points)** List 5 examples on the test set that BERT misclassified. Describe reasons identified for misclassification."
   ]
  },
  {
   "cell_type": "markdown",
   "metadata": {
    "id": "cfajMLjeCyXy"
   },
   "source": [
    "**Ans.**\n",
    "\n",
    "I first checked the confusion matrix & the accuracy in each class. Class 0 (' Cardiovascular / Pulmonary') & 1(' General Medicine') has the worst performance. Therefore I selected 5 examples from class 0 or 1. I think it's reasonable that \"general medicine\" will be a hard to classified class since the transcription should be relatively general. For the cardiovascular/pulmonary class, it's often misclassified as class 2 'surgery'. I think maybe it's because cardiovascular transcripts often contain surgery information."
   ]
  },
  {
   "cell_type": "code",
   "execution_count": 78,
   "metadata": {
    "colab": {
     "base_uri": "https://localhost:8080/"
    },
    "id": "3JfkZHOUnuXu",
    "outputId": "b7699ab7-b089-4fcb-c798-7f8b4463e6b3"
   },
   "outputs": [
    {
     "name": "stdout",
     "output_type": "stream",
     "text": [
      "[[ 19   0  16   3   2   8]\n",
      " [  2  10   0   0   0  29]\n",
      " [ 17   0 114   1  34   0]\n",
      " [ 13   0   1  26   5   0]\n",
      " [  0   0   7   6  37   6]\n",
      " [  6  13   0   2   2  50]]\n",
      "Accuracy for class 0: 0.3958, class size: 48\n",
      "Accuracy for class 1: 0.2439, class size: 41\n",
      "Accuracy for class 2: 0.6867, class size: 166\n",
      "Accuracy for class 3: 0.5778, class size: 45\n",
      "Accuracy for class 4: 0.6607, class size: 56\n",
      "Accuracy for class 5: 0.6849, class size: 73\n"
     ]
    }
   ],
   "source": [
    "from sklearn.metrics import confusion_matrix\n",
    "cm = confusion_matrix(test_dataset['labels'], np.argmax(outputs, axis=1))\n",
    "print(cm) \n",
    "for i in range(6):\n",
    "    tp = cm[i, i]\n",
    "    total = np.sum(cm[i, :])\n",
    "    print(f\"Accuracy for class {i}: {tp / total:.4f}, class size: {total}\")"
   ]
  },
  {
   "cell_type": "code",
   "execution_count": 104,
   "metadata": {
    "colab": {
     "base_uri": "https://localhost:8080/"
    },
    "id": "Vv5pDHq1qPlD",
    "outputId": "f2d8c34e-91cc-48be-9fc9-bb00c0dcf9ca"
   },
   "outputs": [
    {
     "name": "stdout",
     "output_type": "stream",
     "text": [
      "Show 5 misclassified examples in testin set\n",
      "[CLS] preoperative diagnosis syncopal episodes with injury see electrophysiology consultation postoperative diagnoses normal electrophysiologic studies no inducible arrhythmia procainamide infusion negative for brugada syndrome procedures comprehensive electrophysiology studies with attempted arrhythmia induction iv procainamide infusion for brugada syndrome description of procedure the patient gave informed consent for comprehensive electrophysiologic studies she received small amounts of intravenous fentanyl and versed for conscious sedation then lidocaine local anesthesia was used three catheters were placed via the right femoral vein french catheters to the right ventricular apex and right atrial appendage and a french catheter to the his bundle later in the procedure the rv apical catheter was moved to rv outflow tract electrophysiological findings conduction intervals in sinus rhythm were normal sinus cycle length ms pa interval ms ah interval ms hv interval ms sinus node recovery times were also normal at ms corrected sinus node recovery time was normal at ms one to one av conduction was present to cycle length ms ah interval ms hv interval ms av nodal effective refractory period was normal ms at drive cycle length ms ra erp was ms with ventricular pacing there was va disassociation present since there was no evidence for dual av nodal pathways and poor retrograde conduction isoproterenol infusion was not performed to look for svt programmed ventricular stimulation was performed at both right ventricular apex and right ventricular outflow tracts drive cycle length and ms was used with triple extrastimuli down to troubling intervals of ms or refractoriness there was no inducible vt longest run was beats of polymorphic vt which is a nonspecific finding from the apex with extrastimuli were delivered again with no inducible vt procainamide was then infused mg kg over minutes there were no st segment changes hv interval after iv procainamide remained normal at ms assessment normal electrophysiologic studies no evidence for sinus node dysfunction or atrioventricular block no inducible supraventricular tachycardia or ventricular tachycardia and no evidence for brugada syndrome plan the patient will follow up with dr x she recently had an ambulatory eeg i will plan to see her again on a p r n basis should she develop a rec [SEP]\n",
      "[CLS] preoperative diagnosis carcinoma of the left upper lobe procedures performed bronchoscopy with aspiration left upper lobectomy procedure details with patient in supine position under general anesthesia with endotracheal tube in place the flexible bronchoscope was then placed down through the endotracheal tube to examine the carina the carina was in the midline and sharp moving directly to the right side the right upper and middle lower lobes were examined and found to be free of obstructions aspiration was carried out for backlog examination we then moved to left side left upper lobe there was a tumor mass located in the lingula of the left lobe and left lower lobe found free of obstruction no anatomic lesions were demonstrated the patient was prepared for left thoracotomy rotated to his right side with a double lumen endotracheal tube in place with an ng tube and a foley catheter after proper position utilizing betadine solution they were draped a posterolateral left thoracotomy incision was performed hemostasis was secured with electrocoagulation the chest wall muscle was then divided over the sixth rib the periosteum of the sixth rib was then removed superiorly and the pleural cavity was entered carefully at this time the mass was felt in the left upper lobe which measures greater than cm by palpation we examined the superior mediastinum no lymph nodes were demonstrated as well as in the anterior mediastinum direction was then moved to the fascia where by utilizing sharp and blunt dissection lingual artery was separated into the left upper lobe casual dissection was carried out with superior segmental arteries and left lower lobe was examined dissection was carried out around the pulmonary artery thus exposing the posterior artery to the left upper lobe direction was carried out to the superior pulmonary vein and utilizing sharp and blunt dissection the entire superior pulmonary vein was separated from the surrounding tissue from the top side the bronchus was then separated away from the pulmonary artery anteriorly thus exposing the apical posterior artery which was short tumor mass was close to the artery at this time we then directed ourselves once again to the lingual artery which was doubly ligated and cut free the posterior artery of the superior branch was doubly ligated and cut free also at this time the bronchus of the left upper lobe was encountered in the fissure on palpation to separate the upper lobe bronchus from lower lobe bronchus and the area was accomplished we [SEP]\n",
      "[CLS] procedure performed picc line insertion description of procedure the patient was identified by myself on presentation to the angiography suite his right arm was prepped and draped in sterile fashion from the antecubital fossa up under ultrasound guidance a gauge needle was placed into his right cephalic vein a guidewire was then threaded through the vein and advanced without difficulty an introducer was then placed over the guidewire we attempted to manipulate the guidewire to the superior vena cava however we could not pass the point of the subclavian vein and we tried several maneuvers and then opted to do a venogram what we did was we injected approximately ml of visipaque contrast material through the introducer and did a mapping venogram and it turned out that the cephalic vein was joining into the subclavian vein it was very tortuous area we made several more attempts using the mapping system to pass the glide over that area but we were unable to do that decision was made at that point then to just do a midline catheter the catheter was cut to cm then we inserted back to the introducer the introducer was removed the catheter was secured by two silk sutures appropriate imaging was then taken sterile dressing was applied the patient tolerated the procedure nicely and was discharged from angiography in satisfactory condition back to the general floor we may make another attempt in the near future using a different approach [SEP] [PAD] [PAD] [PAD] [PAD] [PAD] [PAD] [PAD] [PAD] [PAD] [PAD] [PAD] [PAD] [PAD] [PAD] [PAD] [PAD] [PAD] [PAD] [PAD] [PAD] [PAD] [PAD] [PAD] [PAD] [PAD] [PAD] [PAD] [PAD] [PAD] [PAD] [PAD] [PAD] [PAD] [PAD] [PAD] [PAD] [PAD] [PAD] [PAD] [PAD] [PAD] [PAD] [PAD] [PAD] [PAD] [PAD] [PAD] [PAD] [PAD] [PAD] [PAD] [PAD] [PAD] [PAD] [PAD] [PAD] [PAD] [PAD] [PAD] [PAD] [PAD] [PAD] [PAD] [PAD] [PAD] [PAD] [PAD] [PAD] [PAD] [PAD] [PAD] [PAD] [PAD] [PAD] [PAD] [PAD] [PAD] [PAD] [PAD] [PAD] [PAD] [PAD] [PAD] [PAD] [PAD] [PAD] [PAD] [PAD] [PAD] [PAD] [PAD] [PAD] [PAD] [PAD] [PAD] [PAD] [PAD] [PAD] [PAD] [PAD] [PAD] [PAD] [PAD] [PAD] [PAD] [PAD] [PAD] [PAD] [PAD] [PAD] [PAD] [PAD] [PAD] [PAD] [PAD] [PAD] [PAD] [PAD] [PAD] [PAD] [PAD] [PAD] [PAD] [PAD] [PAD] [PAD] [PAD] [PAD] [PAD] [PAD] [PAD] [PAD] [PAD] [PAD] [PAD] [PAD] [PAD] [PAD] [PAD] [PAD] [PAD] [PAD] [PAD] [PAD] [PAD] [PAD] [PAD] [PAD] [PAD] [PAD] [PAD] [PAD] [PAD] [PAD] [PAD] [PAD] [PAD] [PAD] [PAD] [PAD] [PAD] [PAD] [PAD] [PAD] [PAD] [PAD] [PAD] [PAD] [PAD] [PAD] [PAD] [PAD] [PAD] [PAD] [PAD] [PAD] [PAD] [PAD] [PAD] [PAD] [PAD] [PAD] [PAD] [PAD] [PAD] [PAD] [PAD] [PAD] [PAD] [PAD] [PAD] [PAD] [PAD] [PAD] [PAD] [PAD] [PAD] [PAD] [PAD] [PAD] [PAD] [PAD] [PAD] [PAD] [PAD] [PAD] [PAD] [PAD] [PAD] [PAD] [PAD] [PAD] [PAD] [PAD] [PAD] [PAD] [PAD] [PAD] [PAD] [PAD] [PAD] [PAD] [PAD] [PAD] [PAD]\n",
      "[CLS] procedure left heart catheterization left ventriculography coronary angiography and successful stenting of tight lesion in the distal circumflex and moderately tight lesion in the mid right coronary artery this gentleman has had a non q wave troponin positive myocardial infarction complicated by ventricular fibrillation procedure details the patient was brought to the catheterization lab the chart was reviewed and informed consent was obtained right groin was prepped and draped sterilely and infiltrated xylocaine using the seldinger technique a french sheath was placed in the right femoral artery act was checked and was low additional heparin was given a french pigtail catheter was passed left ventriculography was performed the catheter was exchanged for a french jl catheter nitroglycerin was given in the left main left coronary angiography was performed the catheter was exchanged for a french coronary catheter nitroglycerin was given in the right main and right coronary angiography was performed films were closely reviewed and it was felt that he had a significant lesion in the rca and the distal left circumflex is basically an om considering his age and his course it was elected to stent both these lesions reopro was started and the catheter was exchanged for a french jr guide reopro was given in the rca to prevent no reflow a universal wire was passed the lesion was measured a x mm stent was passed and deployed to moderate pressures with an excellent result the catheter was removed and exchanged for a french jl guide the same wire was passed down the circumflex and the lesion measured a x mm stent was deployed to a moderate pressure with an excellent result plavix was given the catheter was removed and sheath was in place the results were explained to the patient and his wife findings hemodynamics please see attached sheet for details ed was there is no gradient across the aortic valve left ventriculography revealed septum upper limits of normal size with borderline normal lv systolic function with borderline normal wall motion in which there is a question of diffuse very minimal global hypokinesis there is mild mr noted coronary angiography a left main normal b lad some very minimal luminal irregularities there is a st diagonal which has a branch that is mm with a proximal narrowing c left circumflex is basically [SEP]\n",
      "[CLS] preoperative diagnoses right carotid stenosis prior cerebrovascular accident postoperative diagnoses right carotid stenosis prior cerebrovascular accident procedure performed right carotid endarterectomy with patch angioplasty estimated blood loss cc operative findings the common and internal carotid arteries were opened a high grade narrowing was present at the proximal internal carotid and this tapered well to a slightly small diameter internal carotid this was repaired with a dacron patch and the patient tolerated this well under regional anesthetic without need for shunting procedure the patient was taken to the operating room placed in supine position prepped and draped in the usual sterile manner with betadine solution longitudinal incisions were made along the anterior border of the sternocleidomastoid carried down through subcutaneous fat and fascia hemostasis was obtained with electrocautery the platysmal muscle was divided the carotid sheath was identified and opened the vagus nerve ansa cervicalis and hypoglossal nerves were identified and avoided the common internal and external carotids were then freed from the surrounding tissue at this point units of aqueous heparin were administered and allowed to take effect the external and common carotids were then clamped the patient s neurological status was evaluated and found to be unchanged from preoperative levels once sufficient time had lapsed we proceeded with the procedure the carotid bulb was opened with a blade and extended with potts scissors through the very tight lesion into normal internal carotid the plaque was then sharply excised proximally and an eversion endarterectomy was performed successfully at the external the plaque tapered nicely on the internal and no tacking sutures were necessary heparinized saline was injected and no evidence of flapping or other debris was noted the remaining carotid was examined under magnification which showed no debris of flaps present at this point a dacron patch was brought on to the field cut to appropriate length and size and anastomosed to the artery using prolene in a running fashion prior to the time of last stitch the internal carotid was back bled through this the last stitch was tied hemostasis was excellent the internal was again gently occluded while flow was restored to the common and external carotids for several moments and then flow was restored to the entire system at this point a total of mg of protam [SEP]\n"
     ]
    }
   ],
   "source": [
    "cnt = 0\n",
    "print(\"Show 5 misclassified examples in testin set\")\n",
    "for (ids, bo) in zip(test_dataset[\"input_ids\"], (incorrect and in01)):\n",
    "    if cnt == 5:\n",
    "        break\n",
    "    if bo:\n",
    "        cnt += 1\n",
    "        tokens = tokenizer.convert_ids_to_tokens(ids)\n",
    "        print(tokenizer.convert_tokens_to_string(tokens))"
   ]
  }
 ],
 "metadata": {
  "accelerator": "GPU",
  "anaconda-cloud": {},
  "colab": {
   "provenance": []
  },
  "gpuClass": "standard",
  "kernelspec": {
   "display_name": "Python 3 (ipykernel)",
   "language": "python",
   "name": "python3"
  },
  "language_info": {
   "codemirror_mode": {
    "name": "ipython",
    "version": 3
   },
   "file_extension": ".py",
   "mimetype": "text/x-python",
   "name": "python",
   "nbconvert_exporter": "python",
   "pygments_lexer": "ipython3",
   "version": "3.7.7"
  },
  "widgets": {
   "application/vnd.jupyter.widget-state+json": {
    "03e0b76d908e491fb9b0c39fa8171a83": {
     "model_module": "@jupyter-widgets/controls",
     "model_module_version": "1.5.0",
     "model_name": "HTMLModel",
     "state": {
      "_dom_classes": [],
      "_model_module": "@jupyter-widgets/controls",
      "_model_module_version": "1.5.0",
      "_model_name": "HTMLModel",
      "_view_count": null,
      "_view_module": "@jupyter-widgets/controls",
      "_view_module_version": "1.5.0",
      "_view_name": "HTMLView",
      "description": "",
      "description_tooltip": null,
      "layout": "IPY_MODEL_16d7b4b4c0a944a4b93600393cffe558",
      "placeholder": "​",
      "style": "IPY_MODEL_9f04f8a767b74272a4dc8a86546303f0",
      "value": "Map: 100%"
     }
    },
    "139bb8f83a514a4b8134ff18dcf386cb": {
     "model_module": "@jupyter-widgets/controls",
     "model_module_version": "1.5.0",
     "model_name": "FloatProgressModel",
     "state": {
      "_dom_classes": [],
      "_model_module": "@jupyter-widgets/controls",
      "_model_module_version": "1.5.0",
      "_model_name": "FloatProgressModel",
      "_view_count": null,
      "_view_module": "@jupyter-widgets/controls",
      "_view_module_version": "1.5.0",
      "_view_name": "ProgressView",
      "bar_style": "",
      "description": "",
      "description_tooltip": null,
      "layout": "IPY_MODEL_b82098108248426fbb38e8781939ae9e",
      "max": 429,
      "min": 0,
      "orientation": "horizontal",
      "style": "IPY_MODEL_2b9f3335bc1d4c199dd0f575a6887363",
      "value": 429
     }
    },
    "16d7b4b4c0a944a4b93600393cffe558": {
     "model_module": "@jupyter-widgets/base",
     "model_module_version": "1.2.0",
     "model_name": "LayoutModel",
     "state": {
      "_model_module": "@jupyter-widgets/base",
      "_model_module_version": "1.2.0",
      "_model_name": "LayoutModel",
      "_view_count": null,
      "_view_module": "@jupyter-widgets/base",
      "_view_module_version": "1.2.0",
      "_view_name": "LayoutView",
      "align_content": null,
      "align_items": null,
      "align_self": null,
      "border": null,
      "bottom": null,
      "display": null,
      "flex": null,
      "flex_flow": null,
      "grid_area": null,
      "grid_auto_columns": null,
      "grid_auto_flow": null,
      "grid_auto_rows": null,
      "grid_column": null,
      "grid_gap": null,
      "grid_row": null,
      "grid_template_areas": null,
      "grid_template_columns": null,
      "grid_template_rows": null,
      "height": null,
      "justify_content": null,
      "justify_items": null,
      "left": null,
      "margin": null,
      "max_height": null,
      "max_width": null,
      "min_height": null,
      "min_width": null,
      "object_fit": null,
      "object_position": null,
      "order": null,
      "overflow": null,
      "overflow_x": null,
      "overflow_y": null,
      "padding": null,
      "right": null,
      "top": null,
      "visibility": null,
      "width": null
     }
    },
    "2b9f3335bc1d4c199dd0f575a6887363": {
     "model_module": "@jupyter-widgets/controls",
     "model_module_version": "1.5.0",
     "model_name": "ProgressStyleModel",
     "state": {
      "_model_module": "@jupyter-widgets/controls",
      "_model_module_version": "1.5.0",
      "_model_name": "ProgressStyleModel",
      "_view_count": null,
      "_view_module": "@jupyter-widgets/base",
      "_view_module_version": "1.2.0",
      "_view_name": "StyleView",
      "bar_color": null,
      "description_width": ""
     }
    },
    "2cbcbee76dea43169cdc50423e175685": {
     "model_module": "@jupyter-widgets/controls",
     "model_module_version": "1.5.0",
     "model_name": "DescriptionStyleModel",
     "state": {
      "_model_module": "@jupyter-widgets/controls",
      "_model_module_version": "1.5.0",
      "_model_name": "DescriptionStyleModel",
      "_view_count": null,
      "_view_module": "@jupyter-widgets/base",
      "_view_module_version": "1.2.0",
      "_view_name": "StyleView",
      "description_width": ""
     }
    },
    "32999750f78d4a81817df542916bfd3f": {
     "model_module": "@jupyter-widgets/controls",
     "model_module_version": "1.5.0",
     "model_name": "HTMLModel",
     "state": {
      "_dom_classes": [],
      "_model_module": "@jupyter-widgets/controls",
      "_model_module_version": "1.5.0",
      "_model_name": "HTMLModel",
      "_view_count": null,
      "_view_module": "@jupyter-widgets/controls",
      "_view_module_version": "1.5.0",
      "_view_name": "HTMLView",
      "description": "",
      "description_tooltip": null,
      "layout": "IPY_MODEL_ebb61cdb84ee489a9a88962860639c17",
      "placeholder": "​",
      "style": "IPY_MODEL_fdce207ef3944d9e84024d3e26f91229",
      "value": "Map: 100%"
     }
    },
    "3661e10c00ee434e84181fdfa28c2b88": {
     "model_module": "@jupyter-widgets/base",
     "model_module_version": "1.2.0",
     "model_name": "LayoutModel",
     "state": {
      "_model_module": "@jupyter-widgets/base",
      "_model_module_version": "1.2.0",
      "_model_name": "LayoutModel",
      "_view_count": null,
      "_view_module": "@jupyter-widgets/base",
      "_view_module_version": "1.2.0",
      "_view_name": "LayoutView",
      "align_content": null,
      "align_items": null,
      "align_self": null,
      "border": null,
      "bottom": null,
      "display": null,
      "flex": null,
      "flex_flow": null,
      "grid_area": null,
      "grid_auto_columns": null,
      "grid_auto_flow": null,
      "grid_auto_rows": null,
      "grid_column": null,
      "grid_gap": null,
      "grid_row": null,
      "grid_template_areas": null,
      "grid_template_columns": null,
      "grid_template_rows": null,
      "height": null,
      "justify_content": null,
      "justify_items": null,
      "left": null,
      "margin": null,
      "max_height": null,
      "max_width": null,
      "min_height": null,
      "min_width": null,
      "object_fit": null,
      "object_position": null,
      "order": null,
      "overflow": null,
      "overflow_x": null,
      "overflow_y": null,
      "padding": null,
      "right": null,
      "top": null,
      "visibility": null,
      "width": null
     }
    },
    "40760d259c3f40078df8f82b0053fee0": {
     "model_module": "@jupyter-widgets/controls",
     "model_module_version": "1.5.0",
     "model_name": "HTMLModel",
     "state": {
      "_dom_classes": [],
      "_model_module": "@jupyter-widgets/controls",
      "_model_module_version": "1.5.0",
      "_model_name": "HTMLModel",
      "_view_count": null,
      "_view_module": "@jupyter-widgets/controls",
      "_view_module_version": "1.5.0",
      "_view_name": "HTMLView",
      "description": "",
      "description_tooltip": null,
      "layout": "IPY_MODEL_ddd03e0dae1f4baeb3ffd629083bd0b6",
      "placeholder": "​",
      "style": "IPY_MODEL_2cbcbee76dea43169cdc50423e175685",
      "value": " 429/429 [00:01&lt;00:00, 317.22 examples/s]"
     }
    },
    "4c8f418f58944502b8a77f3f348940ed": {
     "model_module": "@jupyter-widgets/base",
     "model_module_version": "1.2.0",
     "model_name": "LayoutModel",
     "state": {
      "_model_module": "@jupyter-widgets/base",
      "_model_module_version": "1.2.0",
      "_model_name": "LayoutModel",
      "_view_count": null,
      "_view_module": "@jupyter-widgets/base",
      "_view_module_version": "1.2.0",
      "_view_name": "LayoutView",
      "align_content": null,
      "align_items": null,
      "align_self": null,
      "border": null,
      "bottom": null,
      "display": null,
      "flex": null,
      "flex_flow": null,
      "grid_area": null,
      "grid_auto_columns": null,
      "grid_auto_flow": null,
      "grid_auto_rows": null,
      "grid_column": null,
      "grid_gap": null,
      "grid_row": null,
      "grid_template_areas": null,
      "grid_template_columns": null,
      "grid_template_rows": null,
      "height": null,
      "justify_content": null,
      "justify_items": null,
      "left": null,
      "margin": null,
      "max_height": null,
      "max_width": null,
      "min_height": null,
      "min_width": null,
      "object_fit": null,
      "object_position": null,
      "order": null,
      "overflow": null,
      "overflow_x": null,
      "overflow_y": null,
      "padding": null,
      "right": null,
      "top": null,
      "visibility": "hidden",
      "width": null
     }
    },
    "519b7ffc62a64853879a0c3ff3dec7b9": {
     "model_module": "@jupyter-widgets/controls",
     "model_module_version": "1.5.0",
     "model_name": "HTMLModel",
     "state": {
      "_dom_classes": [],
      "_model_module": "@jupyter-widgets/controls",
      "_model_module_version": "1.5.0",
      "_model_name": "HTMLModel",
      "_view_count": null,
      "_view_module": "@jupyter-widgets/controls",
      "_view_module_version": "1.5.0",
      "_view_name": "HTMLView",
      "description": "",
      "description_tooltip": null,
      "layout": "IPY_MODEL_ce9589c2366b45a688f12af074b030a9",
      "placeholder": "​",
      "style": "IPY_MODEL_dd067031e0114714b34a62fcb756f4eb",
      "value": "Map: 100%"
     }
    },
    "52bc3d08398e49aeba0d2bb5ac4113e8": {
     "model_module": "@jupyter-widgets/base",
     "model_module_version": "1.2.0",
     "model_name": "LayoutModel",
     "state": {
      "_model_module": "@jupyter-widgets/base",
      "_model_module_version": "1.2.0",
      "_model_name": "LayoutModel",
      "_view_count": null,
      "_view_module": "@jupyter-widgets/base",
      "_view_module_version": "1.2.0",
      "_view_name": "LayoutView",
      "align_content": null,
      "align_items": null,
      "align_self": null,
      "border": null,
      "bottom": null,
      "display": null,
      "flex": null,
      "flex_flow": null,
      "grid_area": null,
      "grid_auto_columns": null,
      "grid_auto_flow": null,
      "grid_auto_rows": null,
      "grid_column": null,
      "grid_gap": null,
      "grid_row": null,
      "grid_template_areas": null,
      "grid_template_columns": null,
      "grid_template_rows": null,
      "height": null,
      "justify_content": null,
      "justify_items": null,
      "left": null,
      "margin": null,
      "max_height": null,
      "max_width": null,
      "min_height": null,
      "min_width": null,
      "object_fit": null,
      "object_position": null,
      "order": null,
      "overflow": null,
      "overflow_x": null,
      "overflow_y": null,
      "padding": null,
      "right": null,
      "top": null,
      "visibility": null,
      "width": null
     }
    },
    "5b82c692842744f2aad04dc7d68b463d": {
     "model_module": "@jupyter-widgets/base",
     "model_module_version": "1.2.0",
     "model_name": "LayoutModel",
     "state": {
      "_model_module": "@jupyter-widgets/base",
      "_model_module_version": "1.2.0",
      "_model_name": "LayoutModel",
      "_view_count": null,
      "_view_module": "@jupyter-widgets/base",
      "_view_module_version": "1.2.0",
      "_view_name": "LayoutView",
      "align_content": null,
      "align_items": null,
      "align_self": null,
      "border": null,
      "bottom": null,
      "display": null,
      "flex": null,
      "flex_flow": null,
      "grid_area": null,
      "grid_auto_columns": null,
      "grid_auto_flow": null,
      "grid_auto_rows": null,
      "grid_column": null,
      "grid_gap": null,
      "grid_row": null,
      "grid_template_areas": null,
      "grid_template_columns": null,
      "grid_template_rows": null,
      "height": null,
      "justify_content": null,
      "justify_items": null,
      "left": null,
      "margin": null,
      "max_height": null,
      "max_width": null,
      "min_height": null,
      "min_width": null,
      "object_fit": null,
      "object_position": null,
      "order": null,
      "overflow": null,
      "overflow_x": null,
      "overflow_y": null,
      "padding": null,
      "right": null,
      "top": null,
      "visibility": "hidden",
      "width": null
     }
    },
    "5e1ad41fd9a14cc3b8c1fbe66970cb02": {
     "model_module": "@jupyter-widgets/base",
     "model_module_version": "1.2.0",
     "model_name": "LayoutModel",
     "state": {
      "_model_module": "@jupyter-widgets/base",
      "_model_module_version": "1.2.0",
      "_model_name": "LayoutModel",
      "_view_count": null,
      "_view_module": "@jupyter-widgets/base",
      "_view_module_version": "1.2.0",
      "_view_name": "LayoutView",
      "align_content": null,
      "align_items": null,
      "align_self": null,
      "border": null,
      "bottom": null,
      "display": null,
      "flex": null,
      "flex_flow": null,
      "grid_area": null,
      "grid_auto_columns": null,
      "grid_auto_flow": null,
      "grid_auto_rows": null,
      "grid_column": null,
      "grid_gap": null,
      "grid_row": null,
      "grid_template_areas": null,
      "grid_template_columns": null,
      "grid_template_rows": null,
      "height": null,
      "justify_content": null,
      "justify_items": null,
      "left": null,
      "margin": null,
      "max_height": null,
      "max_width": null,
      "min_height": null,
      "min_width": null,
      "object_fit": null,
      "object_position": null,
      "order": null,
      "overflow": null,
      "overflow_x": null,
      "overflow_y": null,
      "padding": null,
      "right": null,
      "top": null,
      "visibility": null,
      "width": null
     }
    },
    "9198616cdc01458fb893c46fc38a78a9": {
     "model_module": "@jupyter-widgets/controls",
     "model_module_version": "1.5.0",
     "model_name": "HBoxModel",
     "state": {
      "_dom_classes": [],
      "_model_module": "@jupyter-widgets/controls",
      "_model_module_version": "1.5.0",
      "_model_name": "HBoxModel",
      "_view_count": null,
      "_view_module": "@jupyter-widgets/controls",
      "_view_module_version": "1.5.0",
      "_view_name": "HBoxView",
      "box_style": "",
      "children": [
       "IPY_MODEL_32999750f78d4a81817df542916bfd3f",
       "IPY_MODEL_139bb8f83a514a4b8134ff18dcf386cb",
       "IPY_MODEL_40760d259c3f40078df8f82b0053fee0"
      ],
      "layout": "IPY_MODEL_5b82c692842744f2aad04dc7d68b463d"
     }
    },
    "94ff910ba0b14bbc980d0cd080618695": {
     "model_module": "@jupyter-widgets/controls",
     "model_module_version": "1.5.0",
     "model_name": "FloatProgressModel",
     "state": {
      "_dom_classes": [],
      "_model_module": "@jupyter-widgets/controls",
      "_model_module_version": "1.5.0",
      "_model_name": "FloatProgressModel",
      "_view_count": null,
      "_view_module": "@jupyter-widgets/controls",
      "_view_module_version": "1.5.0",
      "_view_name": "ProgressView",
      "bar_style": "",
      "description": "",
      "description_tooltip": null,
      "layout": "IPY_MODEL_52bc3d08398e49aeba0d2bb5ac4113e8",
      "max": 2005,
      "min": 0,
      "orientation": "horizontal",
      "style": "IPY_MODEL_e29615a4ba6e4f4a946b43bb5ad0693a",
      "value": 2005
     }
    },
    "9f04f8a767b74272a4dc8a86546303f0": {
     "model_module": "@jupyter-widgets/controls",
     "model_module_version": "1.5.0",
     "model_name": "DescriptionStyleModel",
     "state": {
      "_model_module": "@jupyter-widgets/controls",
      "_model_module_version": "1.5.0",
      "_model_name": "DescriptionStyleModel",
      "_view_count": null,
      "_view_module": "@jupyter-widgets/base",
      "_view_module_version": "1.2.0",
      "_view_name": "StyleView",
      "description_width": ""
     }
    },
    "a0fa4902a21e42b9a89e2aa3cc50254c": {
     "model_module": "@jupyter-widgets/controls",
     "model_module_version": "1.5.0",
     "model_name": "DescriptionStyleModel",
     "state": {
      "_model_module": "@jupyter-widgets/controls",
      "_model_module_version": "1.5.0",
      "_model_name": "DescriptionStyleModel",
      "_view_count": null,
      "_view_module": "@jupyter-widgets/base",
      "_view_module_version": "1.2.0",
      "_view_name": "StyleView",
      "description_width": ""
     }
    },
    "b82098108248426fbb38e8781939ae9e": {
     "model_module": "@jupyter-widgets/base",
     "model_module_version": "1.2.0",
     "model_name": "LayoutModel",
     "state": {
      "_model_module": "@jupyter-widgets/base",
      "_model_module_version": "1.2.0",
      "_model_name": "LayoutModel",
      "_view_count": null,
      "_view_module": "@jupyter-widgets/base",
      "_view_module_version": "1.2.0",
      "_view_name": "LayoutView",
      "align_content": null,
      "align_items": null,
      "align_self": null,
      "border": null,
      "bottom": null,
      "display": null,
      "flex": null,
      "flex_flow": null,
      "grid_area": null,
      "grid_auto_columns": null,
      "grid_auto_flow": null,
      "grid_auto_rows": null,
      "grid_column": null,
      "grid_gap": null,
      "grid_row": null,
      "grid_template_areas": null,
      "grid_template_columns": null,
      "grid_template_rows": null,
      "height": null,
      "justify_content": null,
      "justify_items": null,
      "left": null,
      "margin": null,
      "max_height": null,
      "max_width": null,
      "min_height": null,
      "min_width": null,
      "object_fit": null,
      "object_position": null,
      "order": null,
      "overflow": null,
      "overflow_x": null,
      "overflow_y": null,
      "padding": null,
      "right": null,
      "top": null,
      "visibility": null,
      "width": null
     }
    },
    "bb2fd538351f402281c3eaee6f5a62d9": {
     "model_module": "@jupyter-widgets/controls",
     "model_module_version": "1.5.0",
     "model_name": "ProgressStyleModel",
     "state": {
      "_model_module": "@jupyter-widgets/controls",
      "_model_module_version": "1.5.0",
      "_model_name": "ProgressStyleModel",
      "_view_count": null,
      "_view_module": "@jupyter-widgets/base",
      "_view_module_version": "1.2.0",
      "_view_name": "StyleView",
      "bar_color": null,
      "description_width": ""
     }
    },
    "bdd96c63a93d4cee9f1e68a55faddc55": {
     "model_module": "@jupyter-widgets/base",
     "model_module_version": "1.2.0",
     "model_name": "LayoutModel",
     "state": {
      "_model_module": "@jupyter-widgets/base",
      "_model_module_version": "1.2.0",
      "_model_name": "LayoutModel",
      "_view_count": null,
      "_view_module": "@jupyter-widgets/base",
      "_view_module_version": "1.2.0",
      "_view_name": "LayoutView",
      "align_content": null,
      "align_items": null,
      "align_self": null,
      "border": null,
      "bottom": null,
      "display": null,
      "flex": null,
      "flex_flow": null,
      "grid_area": null,
      "grid_auto_columns": null,
      "grid_auto_flow": null,
      "grid_auto_rows": null,
      "grid_column": null,
      "grid_gap": null,
      "grid_row": null,
      "grid_template_areas": null,
      "grid_template_columns": null,
      "grid_template_rows": null,
      "height": null,
      "justify_content": null,
      "justify_items": null,
      "left": null,
      "margin": null,
      "max_height": null,
      "max_width": null,
      "min_height": null,
      "min_width": null,
      "object_fit": null,
      "object_position": null,
      "order": null,
      "overflow": null,
      "overflow_x": null,
      "overflow_y": null,
      "padding": null,
      "right": null,
      "top": null,
      "visibility": "hidden",
      "width": null
     }
    },
    "c6a3636ce7ca43e4a048f7e8d4b83c46": {
     "model_module": "@jupyter-widgets/controls",
     "model_module_version": "1.5.0",
     "model_name": "DescriptionStyleModel",
     "state": {
      "_model_module": "@jupyter-widgets/controls",
      "_model_module_version": "1.5.0",
      "_model_name": "DescriptionStyleModel",
      "_view_count": null,
      "_view_module": "@jupyter-widgets/base",
      "_view_module_version": "1.2.0",
      "_view_name": "StyleView",
      "description_width": ""
     }
    },
    "c83bf5a24dbb4235931da4990533ada0": {
     "model_module": "@jupyter-widgets/controls",
     "model_module_version": "1.5.0",
     "model_name": "FloatProgressModel",
     "state": {
      "_dom_classes": [],
      "_model_module": "@jupyter-widgets/controls",
      "_model_module_version": "1.5.0",
      "_model_name": "FloatProgressModel",
      "_view_count": null,
      "_view_module": "@jupyter-widgets/controls",
      "_view_module_version": "1.5.0",
      "_view_name": "ProgressView",
      "bar_style": "",
      "description": "",
      "description_tooltip": null,
      "layout": "IPY_MODEL_d8314399a8ee415f93554be27e720ec4",
      "max": 428,
      "min": 0,
      "orientation": "horizontal",
      "style": "IPY_MODEL_bb2fd538351f402281c3eaee6f5a62d9",
      "value": 428
     }
    },
    "cd832f7cbd454ea68fdeb4d54b915ea3": {
     "model_module": "@jupyter-widgets/controls",
     "model_module_version": "1.5.0",
     "model_name": "HTMLModel",
     "state": {
      "_dom_classes": [],
      "_model_module": "@jupyter-widgets/controls",
      "_model_module_version": "1.5.0",
      "_model_name": "HTMLModel",
      "_view_count": null,
      "_view_module": "@jupyter-widgets/controls",
      "_view_module_version": "1.5.0",
      "_view_name": "HTMLView",
      "description": "",
      "description_tooltip": null,
      "layout": "IPY_MODEL_3661e10c00ee434e84181fdfa28c2b88",
      "placeholder": "​",
      "style": "IPY_MODEL_c6a3636ce7ca43e4a048f7e8d4b83c46",
      "value": " 2000/2005 [00:10&lt;00:00, 189.54 examples/s]"
     }
    },
    "ce9589c2366b45a688f12af074b030a9": {
     "model_module": "@jupyter-widgets/base",
     "model_module_version": "1.2.0",
     "model_name": "LayoutModel",
     "state": {
      "_model_module": "@jupyter-widgets/base",
      "_model_module_version": "1.2.0",
      "_model_name": "LayoutModel",
      "_view_count": null,
      "_view_module": "@jupyter-widgets/base",
      "_view_module_version": "1.2.0",
      "_view_name": "LayoutView",
      "align_content": null,
      "align_items": null,
      "align_self": null,
      "border": null,
      "bottom": null,
      "display": null,
      "flex": null,
      "flex_flow": null,
      "grid_area": null,
      "grid_auto_columns": null,
      "grid_auto_flow": null,
      "grid_auto_rows": null,
      "grid_column": null,
      "grid_gap": null,
      "grid_row": null,
      "grid_template_areas": null,
      "grid_template_columns": null,
      "grid_template_rows": null,
      "height": null,
      "justify_content": null,
      "justify_items": null,
      "left": null,
      "margin": null,
      "max_height": null,
      "max_width": null,
      "min_height": null,
      "min_width": null,
      "object_fit": null,
      "object_position": null,
      "order": null,
      "overflow": null,
      "overflow_x": null,
      "overflow_y": null,
      "padding": null,
      "right": null,
      "top": null,
      "visibility": null,
      "width": null
     }
    },
    "d8314399a8ee415f93554be27e720ec4": {
     "model_module": "@jupyter-widgets/base",
     "model_module_version": "1.2.0",
     "model_name": "LayoutModel",
     "state": {
      "_model_module": "@jupyter-widgets/base",
      "_model_module_version": "1.2.0",
      "_model_name": "LayoutModel",
      "_view_count": null,
      "_view_module": "@jupyter-widgets/base",
      "_view_module_version": "1.2.0",
      "_view_name": "LayoutView",
      "align_content": null,
      "align_items": null,
      "align_self": null,
      "border": null,
      "bottom": null,
      "display": null,
      "flex": null,
      "flex_flow": null,
      "grid_area": null,
      "grid_auto_columns": null,
      "grid_auto_flow": null,
      "grid_auto_rows": null,
      "grid_column": null,
      "grid_gap": null,
      "grid_row": null,
      "grid_template_areas": null,
      "grid_template_columns": null,
      "grid_template_rows": null,
      "height": null,
      "justify_content": null,
      "justify_items": null,
      "left": null,
      "margin": null,
      "max_height": null,
      "max_width": null,
      "min_height": null,
      "min_width": null,
      "object_fit": null,
      "object_position": null,
      "order": null,
      "overflow": null,
      "overflow_x": null,
      "overflow_y": null,
      "padding": null,
      "right": null,
      "top": null,
      "visibility": null,
      "width": null
     }
    },
    "dd067031e0114714b34a62fcb756f4eb": {
     "model_module": "@jupyter-widgets/controls",
     "model_module_version": "1.5.0",
     "model_name": "DescriptionStyleModel",
     "state": {
      "_model_module": "@jupyter-widgets/controls",
      "_model_module_version": "1.5.0",
      "_model_name": "DescriptionStyleModel",
      "_view_count": null,
      "_view_module": "@jupyter-widgets/base",
      "_view_module_version": "1.2.0",
      "_view_name": "StyleView",
      "description_width": ""
     }
    },
    "ddd03e0dae1f4baeb3ffd629083bd0b6": {
     "model_module": "@jupyter-widgets/base",
     "model_module_version": "1.2.0",
     "model_name": "LayoutModel",
     "state": {
      "_model_module": "@jupyter-widgets/base",
      "_model_module_version": "1.2.0",
      "_model_name": "LayoutModel",
      "_view_count": null,
      "_view_module": "@jupyter-widgets/base",
      "_view_module_version": "1.2.0",
      "_view_name": "LayoutView",
      "align_content": null,
      "align_items": null,
      "align_self": null,
      "border": null,
      "bottom": null,
      "display": null,
      "flex": null,
      "flex_flow": null,
      "grid_area": null,
      "grid_auto_columns": null,
      "grid_auto_flow": null,
      "grid_auto_rows": null,
      "grid_column": null,
      "grid_gap": null,
      "grid_row": null,
      "grid_template_areas": null,
      "grid_template_columns": null,
      "grid_template_rows": null,
      "height": null,
      "justify_content": null,
      "justify_items": null,
      "left": null,
      "margin": null,
      "max_height": null,
      "max_width": null,
      "min_height": null,
      "min_width": null,
      "object_fit": null,
      "object_position": null,
      "order": null,
      "overflow": null,
      "overflow_x": null,
      "overflow_y": null,
      "padding": null,
      "right": null,
      "top": null,
      "visibility": null,
      "width": null
     }
    },
    "e29615a4ba6e4f4a946b43bb5ad0693a": {
     "model_module": "@jupyter-widgets/controls",
     "model_module_version": "1.5.0",
     "model_name": "ProgressStyleModel",
     "state": {
      "_model_module": "@jupyter-widgets/controls",
      "_model_module_version": "1.5.0",
      "_model_name": "ProgressStyleModel",
      "_view_count": null,
      "_view_module": "@jupyter-widgets/base",
      "_view_module_version": "1.2.0",
      "_view_name": "StyleView",
      "bar_color": null,
      "description_width": ""
     }
    },
    "e6da39e031b94c389b1a1acd67eac463": {
     "model_module": "@jupyter-widgets/controls",
     "model_module_version": "1.5.0",
     "model_name": "HBoxModel",
     "state": {
      "_dom_classes": [],
      "_model_module": "@jupyter-widgets/controls",
      "_model_module_version": "1.5.0",
      "_model_name": "HBoxModel",
      "_view_count": null,
      "_view_module": "@jupyter-widgets/controls",
      "_view_module_version": "1.5.0",
      "_view_name": "HBoxView",
      "box_style": "",
      "children": [
       "IPY_MODEL_03e0b76d908e491fb9b0c39fa8171a83",
       "IPY_MODEL_c83bf5a24dbb4235931da4990533ada0",
       "IPY_MODEL_e7cc8492788b45fb868bdb5b2a341141"
      ],
      "layout": "IPY_MODEL_bdd96c63a93d4cee9f1e68a55faddc55"
     }
    },
    "e7cc8492788b45fb868bdb5b2a341141": {
     "model_module": "@jupyter-widgets/controls",
     "model_module_version": "1.5.0",
     "model_name": "HTMLModel",
     "state": {
      "_dom_classes": [],
      "_model_module": "@jupyter-widgets/controls",
      "_model_module_version": "1.5.0",
      "_model_name": "HTMLModel",
      "_view_count": null,
      "_view_module": "@jupyter-widgets/controls",
      "_view_module_version": "1.5.0",
      "_view_name": "HTMLView",
      "description": "",
      "description_tooltip": null,
      "layout": "IPY_MODEL_5e1ad41fd9a14cc3b8c1fbe66970cb02",
      "placeholder": "​",
      "style": "IPY_MODEL_a0fa4902a21e42b9a89e2aa3cc50254c",
      "value": " 428/428 [00:01&lt;00:00, 243.52 examples/s]"
     }
    },
    "ebb61cdb84ee489a9a88962860639c17": {
     "model_module": "@jupyter-widgets/base",
     "model_module_version": "1.2.0",
     "model_name": "LayoutModel",
     "state": {
      "_model_module": "@jupyter-widgets/base",
      "_model_module_version": "1.2.0",
      "_model_name": "LayoutModel",
      "_view_count": null,
      "_view_module": "@jupyter-widgets/base",
      "_view_module_version": "1.2.0",
      "_view_name": "LayoutView",
      "align_content": null,
      "align_items": null,
      "align_self": null,
      "border": null,
      "bottom": null,
      "display": null,
      "flex": null,
      "flex_flow": null,
      "grid_area": null,
      "grid_auto_columns": null,
      "grid_auto_flow": null,
      "grid_auto_rows": null,
      "grid_column": null,
      "grid_gap": null,
      "grid_row": null,
      "grid_template_areas": null,
      "grid_template_columns": null,
      "grid_template_rows": null,
      "height": null,
      "justify_content": null,
      "justify_items": null,
      "left": null,
      "margin": null,
      "max_height": null,
      "max_width": null,
      "min_height": null,
      "min_width": null,
      "object_fit": null,
      "object_position": null,
      "order": null,
      "overflow": null,
      "overflow_x": null,
      "overflow_y": null,
      "padding": null,
      "right": null,
      "top": null,
      "visibility": null,
      "width": null
     }
    },
    "f320d759fa8144ce863ee4c79c91a0d5": {
     "model_module": "@jupyter-widgets/controls",
     "model_module_version": "1.5.0",
     "model_name": "HBoxModel",
     "state": {
      "_dom_classes": [],
      "_model_module": "@jupyter-widgets/controls",
      "_model_module_version": "1.5.0",
      "_model_name": "HBoxModel",
      "_view_count": null,
      "_view_module": "@jupyter-widgets/controls",
      "_view_module_version": "1.5.0",
      "_view_name": "HBoxView",
      "box_style": "",
      "children": [
       "IPY_MODEL_519b7ffc62a64853879a0c3ff3dec7b9",
       "IPY_MODEL_94ff910ba0b14bbc980d0cd080618695",
       "IPY_MODEL_cd832f7cbd454ea68fdeb4d54b915ea3"
      ],
      "layout": "IPY_MODEL_4c8f418f58944502b8a77f3f348940ed"
     }
    },
    "fdce207ef3944d9e84024d3e26f91229": {
     "model_module": "@jupyter-widgets/controls",
     "model_module_version": "1.5.0",
     "model_name": "DescriptionStyleModel",
     "state": {
      "_model_module": "@jupyter-widgets/controls",
      "_model_module_version": "1.5.0",
      "_model_name": "DescriptionStyleModel",
      "_view_count": null,
      "_view_module": "@jupyter-widgets/base",
      "_view_module_version": "1.2.0",
      "_view_name": "StyleView",
      "description_width": ""
     }
    }
   }
  }
 },
 "nbformat": 4,
 "nbformat_minor": 1
}
